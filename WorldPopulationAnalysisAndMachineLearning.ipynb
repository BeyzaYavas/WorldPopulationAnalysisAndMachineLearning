{
  "nbformat": 4,
  "nbformat_minor": 0,
  "metadata": {
    "colab": {
      "provenance": [],
      "authorship_tag": "ABX9TyM7n/u2W4inMEXi2GUsCVWy",
      "include_colab_link": true
    },
    "kernelspec": {
      "name": "python3",
      "display_name": "Python 3"
    },
    "language_info": {
      "name": "python"
    }
  },
  "cells": [
    {
      "cell_type": "markdown",
      "metadata": {
        "id": "view-in-github",
        "colab_type": "text"
      },
      "source": [
        "<a href=\"https://colab.research.google.com/github/BeyzaYavas/WorldPopulationAnalysisAndMachineLearning/blob/main/WorldPopulationAnalysisAndMachineLearning.ipynb\" target=\"_parent\"><img src=\"https://colab.research.google.com/assets/colab-badge.svg\" alt=\"Open In Colab\"/></a>"
      ]
    },
    {
      "cell_type": "markdown",
      "source": [
        "\"Python ile makine öğrenmesi yardımıyla dünya nüfusu üzerine bir veri analizi\""
      ],
      "metadata": {
        "id": "k40NTvgQ4ryF"
      }
    },
    {
      "cell_type": "markdown",
      "source": [
        "**1)Veri Toplama - Veri Setini import etme**\n"
      ],
      "metadata": {
        "id": "ZwKeEjVm5Amc"
      }
    },
    {
      "cell_type": "code",
      "execution_count": 1,
      "metadata": {
        "id": "nAXE70Rm4omq"
      },
      "outputs": [],
      "source": [
        "import pandas as pd"
      ]
    },
    {
      "cell_type": "code",
      "source": [
        "df = pd.read_csv(\"world_population.csv\")"
      ],
      "metadata": {
        "id": "OHZIxgTG5L9_"
      },
      "execution_count": 2,
      "outputs": []
    },
    {
      "cell_type": "markdown",
      "source": [
        "**2) Veri Setine İlk Bakış - Veri Setinin Düzenlenmesi**"
      ],
      "metadata": {
        "id": "kCLqd3z36MVy"
      }
    },
    {
      "cell_type": "markdown",
      "source": [
        "head() ve tail() fonksiyonlarını kullanarak veri setinin ilk 5 ve son 5 verilerini inceleyerek hangi değerlerden oluştuğunu görebiliriz."
      ],
      "metadata": {
        "id": "FO5css8W7V7Y"
      }
    },
    {
      "cell_type": "code",
      "source": [
        "df.head() #verisetinin ilk 5i"
      ],
      "metadata": {
        "colab": {
          "base_uri": "https://localhost:8080/",
          "height": 319
        },
        "id": "EFnWXIYS6GKd",
        "outputId": "b86fa1c2-be14-44ca-8561-058a1d11a149"
      },
      "execution_count": 3,
      "outputs": [
        {
          "output_type": "execute_result",
          "data": {
            "text/plain": [
              "   Rank CCA3         Country           Capital Continent  2022 Population  \\\n",
              "0    36  AFG     Afghanistan             Kabul      Asia         41128771   \n",
              "1   138  ALB         Albania            Tirana    Europe          2842321   \n",
              "2    34  DZA         Algeria           Algiers    Africa         44903225   \n",
              "3   213  ASM  American Samoa         Pago Pago   Oceania            44273   \n",
              "4   203  AND         Andorra  Andorra la Vella    Europe            79824   \n",
              "\n",
              "   2020 Population  2015 Population  2010 Population  2000 Population  \\\n",
              "0         38972230         33753499         28189672         19542982   \n",
              "1          2866849          2882481          2913399          3182021   \n",
              "2         43451666         39543154         35856344         30774621   \n",
              "3            46189            51368            54849            58230   \n",
              "4            77700            71746            71519            66097   \n",
              "\n",
              "   1990 Population  1980 Population  1970 Population  Area (km²)  \\\n",
              "0         10694796         12486631         10752971      652230   \n",
              "1          3295066          2941651          2324731       28748   \n",
              "2         25518074         18739378         13795915     2381741   \n",
              "3            47818            32886            27075         199   \n",
              "4            53569            35611            19860         468   \n",
              "\n",
              "   Density (per km²)  Growth Rate  World Population Percentage  \n",
              "0            63.0587       1.0257                         0.52  \n",
              "1            98.8702       0.9957                         0.04  \n",
              "2            18.8531       1.0164                         0.56  \n",
              "3           222.4774       0.9831                         0.00  \n",
              "4           170.5641       1.0100                         0.00  "
            ],
            "text/html": [
              "\n",
              "  <div id=\"df-1fd62b51-7e98-4571-9d8a-448ffb2eab19\">\n",
              "    <div class=\"colab-df-container\">\n",
              "      <div>\n",
              "<style scoped>\n",
              "    .dataframe tbody tr th:only-of-type {\n",
              "        vertical-align: middle;\n",
              "    }\n",
              "\n",
              "    .dataframe tbody tr th {\n",
              "        vertical-align: top;\n",
              "    }\n",
              "\n",
              "    .dataframe thead th {\n",
              "        text-align: right;\n",
              "    }\n",
              "</style>\n",
              "<table border=\"1\" class=\"dataframe\">\n",
              "  <thead>\n",
              "    <tr style=\"text-align: right;\">\n",
              "      <th></th>\n",
              "      <th>Rank</th>\n",
              "      <th>CCA3</th>\n",
              "      <th>Country</th>\n",
              "      <th>Capital</th>\n",
              "      <th>Continent</th>\n",
              "      <th>2022 Population</th>\n",
              "      <th>2020 Population</th>\n",
              "      <th>2015 Population</th>\n",
              "      <th>2010 Population</th>\n",
              "      <th>2000 Population</th>\n",
              "      <th>1990 Population</th>\n",
              "      <th>1980 Population</th>\n",
              "      <th>1970 Population</th>\n",
              "      <th>Area (km²)</th>\n",
              "      <th>Density (per km²)</th>\n",
              "      <th>Growth Rate</th>\n",
              "      <th>World Population Percentage</th>\n",
              "    </tr>\n",
              "  </thead>\n",
              "  <tbody>\n",
              "    <tr>\n",
              "      <th>0</th>\n",
              "      <td>36</td>\n",
              "      <td>AFG</td>\n",
              "      <td>Afghanistan</td>\n",
              "      <td>Kabul</td>\n",
              "      <td>Asia</td>\n",
              "      <td>41128771</td>\n",
              "      <td>38972230</td>\n",
              "      <td>33753499</td>\n",
              "      <td>28189672</td>\n",
              "      <td>19542982</td>\n",
              "      <td>10694796</td>\n",
              "      <td>12486631</td>\n",
              "      <td>10752971</td>\n",
              "      <td>652230</td>\n",
              "      <td>63.0587</td>\n",
              "      <td>1.0257</td>\n",
              "      <td>0.52</td>\n",
              "    </tr>\n",
              "    <tr>\n",
              "      <th>1</th>\n",
              "      <td>138</td>\n",
              "      <td>ALB</td>\n",
              "      <td>Albania</td>\n",
              "      <td>Tirana</td>\n",
              "      <td>Europe</td>\n",
              "      <td>2842321</td>\n",
              "      <td>2866849</td>\n",
              "      <td>2882481</td>\n",
              "      <td>2913399</td>\n",
              "      <td>3182021</td>\n",
              "      <td>3295066</td>\n",
              "      <td>2941651</td>\n",
              "      <td>2324731</td>\n",
              "      <td>28748</td>\n",
              "      <td>98.8702</td>\n",
              "      <td>0.9957</td>\n",
              "      <td>0.04</td>\n",
              "    </tr>\n",
              "    <tr>\n",
              "      <th>2</th>\n",
              "      <td>34</td>\n",
              "      <td>DZA</td>\n",
              "      <td>Algeria</td>\n",
              "      <td>Algiers</td>\n",
              "      <td>Africa</td>\n",
              "      <td>44903225</td>\n",
              "      <td>43451666</td>\n",
              "      <td>39543154</td>\n",
              "      <td>35856344</td>\n",
              "      <td>30774621</td>\n",
              "      <td>25518074</td>\n",
              "      <td>18739378</td>\n",
              "      <td>13795915</td>\n",
              "      <td>2381741</td>\n",
              "      <td>18.8531</td>\n",
              "      <td>1.0164</td>\n",
              "      <td>0.56</td>\n",
              "    </tr>\n",
              "    <tr>\n",
              "      <th>3</th>\n",
              "      <td>213</td>\n",
              "      <td>ASM</td>\n",
              "      <td>American Samoa</td>\n",
              "      <td>Pago Pago</td>\n",
              "      <td>Oceania</td>\n",
              "      <td>44273</td>\n",
              "      <td>46189</td>\n",
              "      <td>51368</td>\n",
              "      <td>54849</td>\n",
              "      <td>58230</td>\n",
              "      <td>47818</td>\n",
              "      <td>32886</td>\n",
              "      <td>27075</td>\n",
              "      <td>199</td>\n",
              "      <td>222.4774</td>\n",
              "      <td>0.9831</td>\n",
              "      <td>0.00</td>\n",
              "    </tr>\n",
              "    <tr>\n",
              "      <th>4</th>\n",
              "      <td>203</td>\n",
              "      <td>AND</td>\n",
              "      <td>Andorra</td>\n",
              "      <td>Andorra la Vella</td>\n",
              "      <td>Europe</td>\n",
              "      <td>79824</td>\n",
              "      <td>77700</td>\n",
              "      <td>71746</td>\n",
              "      <td>71519</td>\n",
              "      <td>66097</td>\n",
              "      <td>53569</td>\n",
              "      <td>35611</td>\n",
              "      <td>19860</td>\n",
              "      <td>468</td>\n",
              "      <td>170.5641</td>\n",
              "      <td>1.0100</td>\n",
              "      <td>0.00</td>\n",
              "    </tr>\n",
              "  </tbody>\n",
              "</table>\n",
              "</div>\n",
              "      <button class=\"colab-df-convert\" onclick=\"convertToInteractive('df-1fd62b51-7e98-4571-9d8a-448ffb2eab19')\"\n",
              "              title=\"Convert this dataframe to an interactive table.\"\n",
              "              style=\"display:none;\">\n",
              "        \n",
              "  <svg xmlns=\"http://www.w3.org/2000/svg\" height=\"24px\"viewBox=\"0 0 24 24\"\n",
              "       width=\"24px\">\n",
              "    <path d=\"M0 0h24v24H0V0z\" fill=\"none\"/>\n",
              "    <path d=\"M18.56 5.44l.94 2.06.94-2.06 2.06-.94-2.06-.94-.94-2.06-.94 2.06-2.06.94zm-11 1L8.5 8.5l.94-2.06 2.06-.94-2.06-.94L8.5 2.5l-.94 2.06-2.06.94zm10 10l.94 2.06.94-2.06 2.06-.94-2.06-.94-.94-2.06-.94 2.06-2.06.94z\"/><path d=\"M17.41 7.96l-1.37-1.37c-.4-.4-.92-.59-1.43-.59-.52 0-1.04.2-1.43.59L10.3 9.45l-7.72 7.72c-.78.78-.78 2.05 0 2.83L4 21.41c.39.39.9.59 1.41.59.51 0 1.02-.2 1.41-.59l7.78-7.78 2.81-2.81c.8-.78.8-2.07 0-2.86zM5.41 20L4 18.59l7.72-7.72 1.47 1.35L5.41 20z\"/>\n",
              "  </svg>\n",
              "      </button>\n",
              "      \n",
              "  <style>\n",
              "    .colab-df-container {\n",
              "      display:flex;\n",
              "      flex-wrap:wrap;\n",
              "      gap: 12px;\n",
              "    }\n",
              "\n",
              "    .colab-df-convert {\n",
              "      background-color: #E8F0FE;\n",
              "      border: none;\n",
              "      border-radius: 50%;\n",
              "      cursor: pointer;\n",
              "      display: none;\n",
              "      fill: #1967D2;\n",
              "      height: 32px;\n",
              "      padding: 0 0 0 0;\n",
              "      width: 32px;\n",
              "    }\n",
              "\n",
              "    .colab-df-convert:hover {\n",
              "      background-color: #E2EBFA;\n",
              "      box-shadow: 0px 1px 2px rgba(60, 64, 67, 0.3), 0px 1px 3px 1px rgba(60, 64, 67, 0.15);\n",
              "      fill: #174EA6;\n",
              "    }\n",
              "\n",
              "    [theme=dark] .colab-df-convert {\n",
              "      background-color: #3B4455;\n",
              "      fill: #D2E3FC;\n",
              "    }\n",
              "\n",
              "    [theme=dark] .colab-df-convert:hover {\n",
              "      background-color: #434B5C;\n",
              "      box-shadow: 0px 1px 3px 1px rgba(0, 0, 0, 0.15);\n",
              "      filter: drop-shadow(0px 1px 2px rgba(0, 0, 0, 0.3));\n",
              "      fill: #FFFFFF;\n",
              "    }\n",
              "  </style>\n",
              "\n",
              "      <script>\n",
              "        const buttonEl =\n",
              "          document.querySelector('#df-1fd62b51-7e98-4571-9d8a-448ffb2eab19 button.colab-df-convert');\n",
              "        buttonEl.style.display =\n",
              "          google.colab.kernel.accessAllowed ? 'block' : 'none';\n",
              "\n",
              "        async function convertToInteractive(key) {\n",
              "          const element = document.querySelector('#df-1fd62b51-7e98-4571-9d8a-448ffb2eab19');\n",
              "          const dataTable =\n",
              "            await google.colab.kernel.invokeFunction('convertToInteractive',\n",
              "                                                     [key], {});\n",
              "          if (!dataTable) return;\n",
              "\n",
              "          const docLinkHtml = 'Like what you see? Visit the ' +\n",
              "            '<a target=\"_blank\" href=https://colab.research.google.com/notebooks/data_table.ipynb>data table notebook</a>'\n",
              "            + ' to learn more about interactive tables.';\n",
              "          element.innerHTML = '';\n",
              "          dataTable['output_type'] = 'display_data';\n",
              "          await google.colab.output.renderOutput(dataTable, element);\n",
              "          const docLink = document.createElement('div');\n",
              "          docLink.innerHTML = docLinkHtml;\n",
              "          element.appendChild(docLink);\n",
              "        }\n",
              "      </script>\n",
              "    </div>\n",
              "  </div>\n",
              "  "
            ]
          },
          "metadata": {},
          "execution_count": 3
        }
      ]
    },
    {
      "cell_type": "code",
      "source": [
        "df.tail() #verisetinin son 5i"
      ],
      "metadata": {
        "colab": {
          "base_uri": "https://localhost:8080/",
          "height": 319
        },
        "id": "6jyVJw-R6T6i",
        "outputId": "4655d1c1-ff01-4fe7-caf6-7d0d1602ad48"
      },
      "execution_count": 4,
      "outputs": [
        {
          "output_type": "execute_result",
          "data": {
            "text/plain": [
              "     Rank CCA3            Country   Capital Continent  2022 Population  \\\n",
              "229   226  WLF  Wallis and Futuna  Mata-Utu   Oceania            11572   \n",
              "230   172  ESH     Western Sahara  El Aaiún    Africa           575986   \n",
              "231    46  YEM              Yemen     Sanaa      Asia         33696614   \n",
              "232    63  ZMB             Zambia    Lusaka    Africa         20017675   \n",
              "233    74  ZWE           Zimbabwe    Harare    Africa         16320537   \n",
              "\n",
              "     2020 Population  2015 Population  2010 Population  2000 Population  \\\n",
              "229            11655            12182            13142            14723   \n",
              "230           556048           491824           413296           270375   \n",
              "231         32284046         28516545         24743946         18628700   \n",
              "232         18927715         16248230         13792086          9891136   \n",
              "233         15669666         14154937         12839771         11834676   \n",
              "\n",
              "     1990 Population  1980 Population  1970 Population  Area (km²)  \\\n",
              "229            13454            11315             9377         142   \n",
              "230           178529           116775            76371      266000   \n",
              "231         13375121          9204938          6843607      527968   \n",
              "232          7686401          5720438          4281671      752612   \n",
              "233         10113893          7049926          5202918      390757   \n",
              "\n",
              "     Density (per km²)  Growth Rate  World Population Percentage  \n",
              "229            81.4930       0.9953                         0.00  \n",
              "230             2.1654       1.0184                         0.01  \n",
              "231            63.8232       1.0217                         0.42  \n",
              "232            26.5976       1.0280                         0.25  \n",
              "233            41.7665       1.0204                         0.20  "
            ],
            "text/html": [
              "\n",
              "  <div id=\"df-f9a04286-8b6f-4627-9458-fa2575bafd8d\">\n",
              "    <div class=\"colab-df-container\">\n",
              "      <div>\n",
              "<style scoped>\n",
              "    .dataframe tbody tr th:only-of-type {\n",
              "        vertical-align: middle;\n",
              "    }\n",
              "\n",
              "    .dataframe tbody tr th {\n",
              "        vertical-align: top;\n",
              "    }\n",
              "\n",
              "    .dataframe thead th {\n",
              "        text-align: right;\n",
              "    }\n",
              "</style>\n",
              "<table border=\"1\" class=\"dataframe\">\n",
              "  <thead>\n",
              "    <tr style=\"text-align: right;\">\n",
              "      <th></th>\n",
              "      <th>Rank</th>\n",
              "      <th>CCA3</th>\n",
              "      <th>Country</th>\n",
              "      <th>Capital</th>\n",
              "      <th>Continent</th>\n",
              "      <th>2022 Population</th>\n",
              "      <th>2020 Population</th>\n",
              "      <th>2015 Population</th>\n",
              "      <th>2010 Population</th>\n",
              "      <th>2000 Population</th>\n",
              "      <th>1990 Population</th>\n",
              "      <th>1980 Population</th>\n",
              "      <th>1970 Population</th>\n",
              "      <th>Area (km²)</th>\n",
              "      <th>Density (per km²)</th>\n",
              "      <th>Growth Rate</th>\n",
              "      <th>World Population Percentage</th>\n",
              "    </tr>\n",
              "  </thead>\n",
              "  <tbody>\n",
              "    <tr>\n",
              "      <th>229</th>\n",
              "      <td>226</td>\n",
              "      <td>WLF</td>\n",
              "      <td>Wallis and Futuna</td>\n",
              "      <td>Mata-Utu</td>\n",
              "      <td>Oceania</td>\n",
              "      <td>11572</td>\n",
              "      <td>11655</td>\n",
              "      <td>12182</td>\n",
              "      <td>13142</td>\n",
              "      <td>14723</td>\n",
              "      <td>13454</td>\n",
              "      <td>11315</td>\n",
              "      <td>9377</td>\n",
              "      <td>142</td>\n",
              "      <td>81.4930</td>\n",
              "      <td>0.9953</td>\n",
              "      <td>0.00</td>\n",
              "    </tr>\n",
              "    <tr>\n",
              "      <th>230</th>\n",
              "      <td>172</td>\n",
              "      <td>ESH</td>\n",
              "      <td>Western Sahara</td>\n",
              "      <td>El Aaiún</td>\n",
              "      <td>Africa</td>\n",
              "      <td>575986</td>\n",
              "      <td>556048</td>\n",
              "      <td>491824</td>\n",
              "      <td>413296</td>\n",
              "      <td>270375</td>\n",
              "      <td>178529</td>\n",
              "      <td>116775</td>\n",
              "      <td>76371</td>\n",
              "      <td>266000</td>\n",
              "      <td>2.1654</td>\n",
              "      <td>1.0184</td>\n",
              "      <td>0.01</td>\n",
              "    </tr>\n",
              "    <tr>\n",
              "      <th>231</th>\n",
              "      <td>46</td>\n",
              "      <td>YEM</td>\n",
              "      <td>Yemen</td>\n",
              "      <td>Sanaa</td>\n",
              "      <td>Asia</td>\n",
              "      <td>33696614</td>\n",
              "      <td>32284046</td>\n",
              "      <td>28516545</td>\n",
              "      <td>24743946</td>\n",
              "      <td>18628700</td>\n",
              "      <td>13375121</td>\n",
              "      <td>9204938</td>\n",
              "      <td>6843607</td>\n",
              "      <td>527968</td>\n",
              "      <td>63.8232</td>\n",
              "      <td>1.0217</td>\n",
              "      <td>0.42</td>\n",
              "    </tr>\n",
              "    <tr>\n",
              "      <th>232</th>\n",
              "      <td>63</td>\n",
              "      <td>ZMB</td>\n",
              "      <td>Zambia</td>\n",
              "      <td>Lusaka</td>\n",
              "      <td>Africa</td>\n",
              "      <td>20017675</td>\n",
              "      <td>18927715</td>\n",
              "      <td>16248230</td>\n",
              "      <td>13792086</td>\n",
              "      <td>9891136</td>\n",
              "      <td>7686401</td>\n",
              "      <td>5720438</td>\n",
              "      <td>4281671</td>\n",
              "      <td>752612</td>\n",
              "      <td>26.5976</td>\n",
              "      <td>1.0280</td>\n",
              "      <td>0.25</td>\n",
              "    </tr>\n",
              "    <tr>\n",
              "      <th>233</th>\n",
              "      <td>74</td>\n",
              "      <td>ZWE</td>\n",
              "      <td>Zimbabwe</td>\n",
              "      <td>Harare</td>\n",
              "      <td>Africa</td>\n",
              "      <td>16320537</td>\n",
              "      <td>15669666</td>\n",
              "      <td>14154937</td>\n",
              "      <td>12839771</td>\n",
              "      <td>11834676</td>\n",
              "      <td>10113893</td>\n",
              "      <td>7049926</td>\n",
              "      <td>5202918</td>\n",
              "      <td>390757</td>\n",
              "      <td>41.7665</td>\n",
              "      <td>1.0204</td>\n",
              "      <td>0.20</td>\n",
              "    </tr>\n",
              "  </tbody>\n",
              "</table>\n",
              "</div>\n",
              "      <button class=\"colab-df-convert\" onclick=\"convertToInteractive('df-f9a04286-8b6f-4627-9458-fa2575bafd8d')\"\n",
              "              title=\"Convert this dataframe to an interactive table.\"\n",
              "              style=\"display:none;\">\n",
              "        \n",
              "  <svg xmlns=\"http://www.w3.org/2000/svg\" height=\"24px\"viewBox=\"0 0 24 24\"\n",
              "       width=\"24px\">\n",
              "    <path d=\"M0 0h24v24H0V0z\" fill=\"none\"/>\n",
              "    <path d=\"M18.56 5.44l.94 2.06.94-2.06 2.06-.94-2.06-.94-.94-2.06-.94 2.06-2.06.94zm-11 1L8.5 8.5l.94-2.06 2.06-.94-2.06-.94L8.5 2.5l-.94 2.06-2.06.94zm10 10l.94 2.06.94-2.06 2.06-.94-2.06-.94-.94-2.06-.94 2.06-2.06.94z\"/><path d=\"M17.41 7.96l-1.37-1.37c-.4-.4-.92-.59-1.43-.59-.52 0-1.04.2-1.43.59L10.3 9.45l-7.72 7.72c-.78.78-.78 2.05 0 2.83L4 21.41c.39.39.9.59 1.41.59.51 0 1.02-.2 1.41-.59l7.78-7.78 2.81-2.81c.8-.78.8-2.07 0-2.86zM5.41 20L4 18.59l7.72-7.72 1.47 1.35L5.41 20z\"/>\n",
              "  </svg>\n",
              "      </button>\n",
              "      \n",
              "  <style>\n",
              "    .colab-df-container {\n",
              "      display:flex;\n",
              "      flex-wrap:wrap;\n",
              "      gap: 12px;\n",
              "    }\n",
              "\n",
              "    .colab-df-convert {\n",
              "      background-color: #E8F0FE;\n",
              "      border: none;\n",
              "      border-radius: 50%;\n",
              "      cursor: pointer;\n",
              "      display: none;\n",
              "      fill: #1967D2;\n",
              "      height: 32px;\n",
              "      padding: 0 0 0 0;\n",
              "      width: 32px;\n",
              "    }\n",
              "\n",
              "    .colab-df-convert:hover {\n",
              "      background-color: #E2EBFA;\n",
              "      box-shadow: 0px 1px 2px rgba(60, 64, 67, 0.3), 0px 1px 3px 1px rgba(60, 64, 67, 0.15);\n",
              "      fill: #174EA6;\n",
              "    }\n",
              "\n",
              "    [theme=dark] .colab-df-convert {\n",
              "      background-color: #3B4455;\n",
              "      fill: #D2E3FC;\n",
              "    }\n",
              "\n",
              "    [theme=dark] .colab-df-convert:hover {\n",
              "      background-color: #434B5C;\n",
              "      box-shadow: 0px 1px 3px 1px rgba(0, 0, 0, 0.15);\n",
              "      filter: drop-shadow(0px 1px 2px rgba(0, 0, 0, 0.3));\n",
              "      fill: #FFFFFF;\n",
              "    }\n",
              "  </style>\n",
              "\n",
              "      <script>\n",
              "        const buttonEl =\n",
              "          document.querySelector('#df-f9a04286-8b6f-4627-9458-fa2575bafd8d button.colab-df-convert');\n",
              "        buttonEl.style.display =\n",
              "          google.colab.kernel.accessAllowed ? 'block' : 'none';\n",
              "\n",
              "        async function convertToInteractive(key) {\n",
              "          const element = document.querySelector('#df-f9a04286-8b6f-4627-9458-fa2575bafd8d');\n",
              "          const dataTable =\n",
              "            await google.colab.kernel.invokeFunction('convertToInteractive',\n",
              "                                                     [key], {});\n",
              "          if (!dataTable) return;\n",
              "\n",
              "          const docLinkHtml = 'Like what you see? Visit the ' +\n",
              "            '<a target=\"_blank\" href=https://colab.research.google.com/notebooks/data_table.ipynb>data table notebook</a>'\n",
              "            + ' to learn more about interactive tables.';\n",
              "          element.innerHTML = '';\n",
              "          dataTable['output_type'] = 'display_data';\n",
              "          await google.colab.output.renderOutput(dataTable, element);\n",
              "          const docLink = document.createElement('div');\n",
              "          docLink.innerHTML = docLinkHtml;\n",
              "          element.appendChild(docLink);\n",
              "        }\n",
              "      </script>\n",
              "    </div>\n",
              "  </div>\n",
              "  "
            ]
          },
          "metadata": {},
          "execution_count": 4
        }
      ]
    },
    {
      "cell_type": "markdown",
      "source": [
        "rename() fonksiyonunu kullanarak sütun isimlerini değiştirerek daha anlaşılır hale getirebiliriz."
      ],
      "metadata": {
        "id": "2x1scxy87pEU"
      }
    },
    {
      "cell_type": "code",
      "source": [
        "df.rename(columns={\"Rank\": \"Sıra\", \"CCA3\":\"Kod\", \"Country\":\"Ülke\",\"Capital\":\"Başkent\", \"Continent\": \"Kıta\", \n",
        "                   \"2022 Population\": \"2022-Nüfus\",\n",
        "                   \"2020 Population\": \"2020-Nüfus\",\n",
        "                   \"2015 Population\": \"2015-Nüfus\",\n",
        "                   \"2010 Population\": \"2010-Nüfus\",\n",
        "                   \"2000 Population\": \"2000-Nüfus\",\n",
        "                   \"1990 Population\": \"1990-Nüfus\",\n",
        "                   \"1980 Population\": \"1980-Nüfus\",\n",
        "                   \"1970 Population\": \"1970-Nüfus\",\n",
        "                   \"Area (km²)\": \"Yüzölçüm\",\n",
        "                   \"Density (per km²)\": \"NüfusYoğunluğu\",\n",
        "                   \"Growth Rate\": \"BüyümeOranı\",\n",
        "                   \"World Population Percentage\": \"DünyaNüfusYüzdesi\",\n",
        "                   }, inplace=True)"
      ],
      "metadata": {
        "id": "h5u_EDJQ6Vd2"
      },
      "execution_count": 5,
      "outputs": []
    },
    {
      "cell_type": "code",
      "source": [
        "df.shape #veri setini oluşturan satır ve sütunların sayısı"
      ],
      "metadata": {
        "colab": {
          "base_uri": "https://localhost:8080/"
        },
        "id": "k1rBmmrO6clu",
        "outputId": "49dad33a-9c9e-4a92-f485-c6107fb92339"
      },
      "execution_count": 6,
      "outputs": [
        {
          "output_type": "execute_result",
          "data": {
            "text/plain": [
              "(234, 17)"
            ]
          },
          "metadata": {},
          "execution_count": 6
        }
      ]
    },
    {
      "cell_type": "code",
      "source": [
        "df.size #veri seti büyüklüğü"
      ],
      "metadata": {
        "colab": {
          "base_uri": "https://localhost:8080/"
        },
        "id": "uDQuIWs56gE2",
        "outputId": "c4c74931-9e03-40d5-8e5f-f0f29364527f"
      },
      "execution_count": 7,
      "outputs": [
        {
          "output_type": "execute_result",
          "data": {
            "text/plain": [
              "3978"
            ]
          },
          "metadata": {},
          "execution_count": 7
        }
      ]
    },
    {
      "cell_type": "markdown",
      "source": [
        "Veri seti hakkında sütunların veri tipi gibi genel bilgilerini kontrol edebilmek için info() fonksiyonunu kullanıyoruz."
      ],
      "metadata": {
        "id": "wz8iq7Kj8K_B"
      }
    },
    {
      "cell_type": "code",
      "source": [
        "df.info() #veriler hakkında genel bilgi"
      ],
      "metadata": {
        "colab": {
          "base_uri": "https://localhost:8080/"
        },
        "id": "4vjMI4J86jDB",
        "outputId": "2de645bb-e3fd-4364-a9b5-6241dd34f466"
      },
      "execution_count": 8,
      "outputs": [
        {
          "output_type": "stream",
          "name": "stdout",
          "text": [
            "<class 'pandas.core.frame.DataFrame'>\n",
            "RangeIndex: 234 entries, 0 to 233\n",
            "Data columns (total 17 columns):\n",
            " #   Column             Non-Null Count  Dtype  \n",
            "---  ------             --------------  -----  \n",
            " 0   Sıra               234 non-null    int64  \n",
            " 1   Kod                234 non-null    object \n",
            " 2   Ülke               234 non-null    object \n",
            " 3   Başkent            234 non-null    object \n",
            " 4   Kıta               234 non-null    object \n",
            " 5   2022-Nüfus         234 non-null    int64  \n",
            " 6   2020-Nüfus         234 non-null    int64  \n",
            " 7   2015-Nüfus         234 non-null    int64  \n",
            " 8   2010-Nüfus         234 non-null    int64  \n",
            " 9   2000-Nüfus         234 non-null    int64  \n",
            " 10  1990-Nüfus         234 non-null    int64  \n",
            " 11  1980-Nüfus         234 non-null    int64  \n",
            " 12  1970-Nüfus         234 non-null    int64  \n",
            " 13  Yüzölçüm           234 non-null    int64  \n",
            " 14  NüfusYoğunluğu     234 non-null    float64\n",
            " 15  BüyümeOranı        234 non-null    float64\n",
            " 16  DünyaNüfusYüzdesi  234 non-null    float64\n",
            "dtypes: float64(3), int64(10), object(4)\n",
            "memory usage: 31.2+ KB\n"
          ]
        }
      ]
    },
    {
      "cell_type": "code",
      "source": [
        "df.dtypes #verilerin tipleri"
      ],
      "metadata": {
        "colab": {
          "base_uri": "https://localhost:8080/"
        },
        "id": "wxKsSWkQ6lbe",
        "outputId": "0ecfa81d-561c-4f63-d4ff-d4ca5c24911a"
      },
      "execution_count": 9,
      "outputs": [
        {
          "output_type": "execute_result",
          "data": {
            "text/plain": [
              "Sıra                   int64\n",
              "Kod                   object\n",
              "Ülke                  object\n",
              "Başkent               object\n",
              "Kıta                  object\n",
              "2022-Nüfus             int64\n",
              "2020-Nüfus             int64\n",
              "2015-Nüfus             int64\n",
              "2010-Nüfus             int64\n",
              "2000-Nüfus             int64\n",
              "1990-Nüfus             int64\n",
              "1980-Nüfus             int64\n",
              "1970-Nüfus             int64\n",
              "Yüzölçüm               int64\n",
              "NüfusYoğunluğu       float64\n",
              "BüyümeOranı          float64\n",
              "DünyaNüfusYüzdesi    float64\n",
              "dtype: object"
            ]
          },
          "metadata": {},
          "execution_count": 9
        }
      ]
    },
    {
      "cell_type": "markdown",
      "source": [
        "NüfusYoğunluğu, BüyümeOranı ve DünyaNüfusYüzdesi sütunlarında bulunan verilerin tipi float; Kod, Ülke, Başkent, Kıta sütunlarındakiler ise object, geri kalanların ise integer olduğunu görebiliyoruz. Ayrıca sütunlarda eksik veri bulunmadığını da görebiliriz."
      ],
      "metadata": {
        "id": "l6UiDoJc8RAF"
      }
    },
    {
      "cell_type": "markdown",
      "source": [
        "describe() fonksiyonu veri setinin istatistiksel analiz değerlerini inceleyebilmemizi sağlar. Sütunlardaki minimum, maximum değerleri görebilir, verilerin standart sapması, çeyreklik değerleri ve ortalaması hakkında fikir sahibi olabiliriz."
      ],
      "metadata": {
        "id": "1C6bdVVT8lD9"
      }
    },
    {
      "cell_type": "code",
      "source": [
        "df.describe().T  # veri setindeki değişkenler için istatistiksel analiz "
      ],
      "metadata": {
        "colab": {
          "base_uri": "https://localhost:8080/",
          "height": 457
        },
        "id": "wiGxdC9L6toV",
        "outputId": "7d165410-72f6-446a-9b2d-9d31b6a032be"
      },
      "execution_count": 10,
      "outputs": [
        {
          "output_type": "execute_result",
          "data": {
            "text/plain": [
              "                   count          mean           std       min            25%  \\\n",
              "Sıra               234.0  1.175000e+02  6.769417e+01    1.0000      59.250000   \n",
              "2022-Nüfus         234.0  3.407441e+07  1.367664e+08  510.0000  419738.500000   \n",
              "2020-Nüfus         234.0  3.350107e+07  1.355899e+08  520.0000  415284.500000   \n",
              "2015-Nüfus         234.0  3.172996e+07  1.304050e+08  564.0000  404676.000000   \n",
              "2010-Nüfus         234.0  2.984524e+07  1.242185e+08  596.0000  393149.000000   \n",
              "2000-Nüfus         234.0  2.626947e+07  1.116982e+08  651.0000  327242.000000   \n",
              "1990-Nüfus         234.0  2.271022e+07  9.783217e+07  700.0000  264115.750000   \n",
              "1980-Nüfus         234.0  1.898462e+07  8.178519e+07  733.0000  229614.250000   \n",
              "1970-Nüfus         234.0  1.578691e+07  6.779509e+07  752.0000  155997.000000   \n",
              "Yüzölçüm           234.0  5.814494e+05  1.761841e+06    1.0000    2650.000000   \n",
              "NüfusYoğunluğu     234.0  4.521270e+02  2.066122e+03    0.0261      38.417875   \n",
              "BüyümeOranı        234.0  1.009577e+00  1.338498e-02    0.9120       1.001775   \n",
              "DünyaNüfusYüzdesi  234.0  4.270513e-01  1.714977e+00    0.0000       0.010000   \n",
              "\n",
              "                            50%           75%           max  \n",
              "Sıra               1.175000e+02  1.757500e+02  2.340000e+02  \n",
              "2022-Nüfus         5.559944e+06  2.247650e+07  1.425887e+09  \n",
              "2020-Nüfus         5.493074e+06  2.144798e+07  1.424930e+09  \n",
              "2015-Nüfus         5.307400e+06  1.973085e+07  1.393715e+09  \n",
              "2010-Nüfus         4.942770e+06  1.915957e+07  1.348191e+09  \n",
              "2000-Nüfus         4.292907e+06  1.576230e+07  1.264099e+09  \n",
              "1990-Nüfus         3.825410e+06  1.186923e+07  1.153704e+09  \n",
              "1980-Nüfus         3.141146e+06  9.826054e+06  9.823725e+08  \n",
              "1970-Nüfus         2.604830e+06  8.817329e+06  8.225344e+08  \n",
              "Yüzölçüm           8.119950e+04  4.304258e+05  1.709824e+07  \n",
              "NüfusYoğunluğu     9.534675e+01  2.389332e+02  2.317227e+04  \n",
              "BüyümeOranı        1.007900e+00  1.016950e+00  1.069100e+00  \n",
              "DünyaNüfusYüzdesi  7.000000e-02  2.800000e-01  1.788000e+01  "
            ],
            "text/html": [
              "\n",
              "  <div id=\"df-6333cdcc-2508-4b84-925d-844fbf0a15b1\">\n",
              "    <div class=\"colab-df-container\">\n",
              "      <div>\n",
              "<style scoped>\n",
              "    .dataframe tbody tr th:only-of-type {\n",
              "        vertical-align: middle;\n",
              "    }\n",
              "\n",
              "    .dataframe tbody tr th {\n",
              "        vertical-align: top;\n",
              "    }\n",
              "\n",
              "    .dataframe thead th {\n",
              "        text-align: right;\n",
              "    }\n",
              "</style>\n",
              "<table border=\"1\" class=\"dataframe\">\n",
              "  <thead>\n",
              "    <tr style=\"text-align: right;\">\n",
              "      <th></th>\n",
              "      <th>count</th>\n",
              "      <th>mean</th>\n",
              "      <th>std</th>\n",
              "      <th>min</th>\n",
              "      <th>25%</th>\n",
              "      <th>50%</th>\n",
              "      <th>75%</th>\n",
              "      <th>max</th>\n",
              "    </tr>\n",
              "  </thead>\n",
              "  <tbody>\n",
              "    <tr>\n",
              "      <th>Sıra</th>\n",
              "      <td>234.0</td>\n",
              "      <td>1.175000e+02</td>\n",
              "      <td>6.769417e+01</td>\n",
              "      <td>1.0000</td>\n",
              "      <td>59.250000</td>\n",
              "      <td>1.175000e+02</td>\n",
              "      <td>1.757500e+02</td>\n",
              "      <td>2.340000e+02</td>\n",
              "    </tr>\n",
              "    <tr>\n",
              "      <th>2022-Nüfus</th>\n",
              "      <td>234.0</td>\n",
              "      <td>3.407441e+07</td>\n",
              "      <td>1.367664e+08</td>\n",
              "      <td>510.0000</td>\n",
              "      <td>419738.500000</td>\n",
              "      <td>5.559944e+06</td>\n",
              "      <td>2.247650e+07</td>\n",
              "      <td>1.425887e+09</td>\n",
              "    </tr>\n",
              "    <tr>\n",
              "      <th>2020-Nüfus</th>\n",
              "      <td>234.0</td>\n",
              "      <td>3.350107e+07</td>\n",
              "      <td>1.355899e+08</td>\n",
              "      <td>520.0000</td>\n",
              "      <td>415284.500000</td>\n",
              "      <td>5.493074e+06</td>\n",
              "      <td>2.144798e+07</td>\n",
              "      <td>1.424930e+09</td>\n",
              "    </tr>\n",
              "    <tr>\n",
              "      <th>2015-Nüfus</th>\n",
              "      <td>234.0</td>\n",
              "      <td>3.172996e+07</td>\n",
              "      <td>1.304050e+08</td>\n",
              "      <td>564.0000</td>\n",
              "      <td>404676.000000</td>\n",
              "      <td>5.307400e+06</td>\n",
              "      <td>1.973085e+07</td>\n",
              "      <td>1.393715e+09</td>\n",
              "    </tr>\n",
              "    <tr>\n",
              "      <th>2010-Nüfus</th>\n",
              "      <td>234.0</td>\n",
              "      <td>2.984524e+07</td>\n",
              "      <td>1.242185e+08</td>\n",
              "      <td>596.0000</td>\n",
              "      <td>393149.000000</td>\n",
              "      <td>4.942770e+06</td>\n",
              "      <td>1.915957e+07</td>\n",
              "      <td>1.348191e+09</td>\n",
              "    </tr>\n",
              "    <tr>\n",
              "      <th>2000-Nüfus</th>\n",
              "      <td>234.0</td>\n",
              "      <td>2.626947e+07</td>\n",
              "      <td>1.116982e+08</td>\n",
              "      <td>651.0000</td>\n",
              "      <td>327242.000000</td>\n",
              "      <td>4.292907e+06</td>\n",
              "      <td>1.576230e+07</td>\n",
              "      <td>1.264099e+09</td>\n",
              "    </tr>\n",
              "    <tr>\n",
              "      <th>1990-Nüfus</th>\n",
              "      <td>234.0</td>\n",
              "      <td>2.271022e+07</td>\n",
              "      <td>9.783217e+07</td>\n",
              "      <td>700.0000</td>\n",
              "      <td>264115.750000</td>\n",
              "      <td>3.825410e+06</td>\n",
              "      <td>1.186923e+07</td>\n",
              "      <td>1.153704e+09</td>\n",
              "    </tr>\n",
              "    <tr>\n",
              "      <th>1980-Nüfus</th>\n",
              "      <td>234.0</td>\n",
              "      <td>1.898462e+07</td>\n",
              "      <td>8.178519e+07</td>\n",
              "      <td>733.0000</td>\n",
              "      <td>229614.250000</td>\n",
              "      <td>3.141146e+06</td>\n",
              "      <td>9.826054e+06</td>\n",
              "      <td>9.823725e+08</td>\n",
              "    </tr>\n",
              "    <tr>\n",
              "      <th>1970-Nüfus</th>\n",
              "      <td>234.0</td>\n",
              "      <td>1.578691e+07</td>\n",
              "      <td>6.779509e+07</td>\n",
              "      <td>752.0000</td>\n",
              "      <td>155997.000000</td>\n",
              "      <td>2.604830e+06</td>\n",
              "      <td>8.817329e+06</td>\n",
              "      <td>8.225344e+08</td>\n",
              "    </tr>\n",
              "    <tr>\n",
              "      <th>Yüzölçüm</th>\n",
              "      <td>234.0</td>\n",
              "      <td>5.814494e+05</td>\n",
              "      <td>1.761841e+06</td>\n",
              "      <td>1.0000</td>\n",
              "      <td>2650.000000</td>\n",
              "      <td>8.119950e+04</td>\n",
              "      <td>4.304258e+05</td>\n",
              "      <td>1.709824e+07</td>\n",
              "    </tr>\n",
              "    <tr>\n",
              "      <th>NüfusYoğunluğu</th>\n",
              "      <td>234.0</td>\n",
              "      <td>4.521270e+02</td>\n",
              "      <td>2.066122e+03</td>\n",
              "      <td>0.0261</td>\n",
              "      <td>38.417875</td>\n",
              "      <td>9.534675e+01</td>\n",
              "      <td>2.389332e+02</td>\n",
              "      <td>2.317227e+04</td>\n",
              "    </tr>\n",
              "    <tr>\n",
              "      <th>BüyümeOranı</th>\n",
              "      <td>234.0</td>\n",
              "      <td>1.009577e+00</td>\n",
              "      <td>1.338498e-02</td>\n",
              "      <td>0.9120</td>\n",
              "      <td>1.001775</td>\n",
              "      <td>1.007900e+00</td>\n",
              "      <td>1.016950e+00</td>\n",
              "      <td>1.069100e+00</td>\n",
              "    </tr>\n",
              "    <tr>\n",
              "      <th>DünyaNüfusYüzdesi</th>\n",
              "      <td>234.0</td>\n",
              "      <td>4.270513e-01</td>\n",
              "      <td>1.714977e+00</td>\n",
              "      <td>0.0000</td>\n",
              "      <td>0.010000</td>\n",
              "      <td>7.000000e-02</td>\n",
              "      <td>2.800000e-01</td>\n",
              "      <td>1.788000e+01</td>\n",
              "    </tr>\n",
              "  </tbody>\n",
              "</table>\n",
              "</div>\n",
              "      <button class=\"colab-df-convert\" onclick=\"convertToInteractive('df-6333cdcc-2508-4b84-925d-844fbf0a15b1')\"\n",
              "              title=\"Convert this dataframe to an interactive table.\"\n",
              "              style=\"display:none;\">\n",
              "        \n",
              "  <svg xmlns=\"http://www.w3.org/2000/svg\" height=\"24px\"viewBox=\"0 0 24 24\"\n",
              "       width=\"24px\">\n",
              "    <path d=\"M0 0h24v24H0V0z\" fill=\"none\"/>\n",
              "    <path d=\"M18.56 5.44l.94 2.06.94-2.06 2.06-.94-2.06-.94-.94-2.06-.94 2.06-2.06.94zm-11 1L8.5 8.5l.94-2.06 2.06-.94-2.06-.94L8.5 2.5l-.94 2.06-2.06.94zm10 10l.94 2.06.94-2.06 2.06-.94-2.06-.94-.94-2.06-.94 2.06-2.06.94z\"/><path d=\"M17.41 7.96l-1.37-1.37c-.4-.4-.92-.59-1.43-.59-.52 0-1.04.2-1.43.59L10.3 9.45l-7.72 7.72c-.78.78-.78 2.05 0 2.83L4 21.41c.39.39.9.59 1.41.59.51 0 1.02-.2 1.41-.59l7.78-7.78 2.81-2.81c.8-.78.8-2.07 0-2.86zM5.41 20L4 18.59l7.72-7.72 1.47 1.35L5.41 20z\"/>\n",
              "  </svg>\n",
              "      </button>\n",
              "      \n",
              "  <style>\n",
              "    .colab-df-container {\n",
              "      display:flex;\n",
              "      flex-wrap:wrap;\n",
              "      gap: 12px;\n",
              "    }\n",
              "\n",
              "    .colab-df-convert {\n",
              "      background-color: #E8F0FE;\n",
              "      border: none;\n",
              "      border-radius: 50%;\n",
              "      cursor: pointer;\n",
              "      display: none;\n",
              "      fill: #1967D2;\n",
              "      height: 32px;\n",
              "      padding: 0 0 0 0;\n",
              "      width: 32px;\n",
              "    }\n",
              "\n",
              "    .colab-df-convert:hover {\n",
              "      background-color: #E2EBFA;\n",
              "      box-shadow: 0px 1px 2px rgba(60, 64, 67, 0.3), 0px 1px 3px 1px rgba(60, 64, 67, 0.15);\n",
              "      fill: #174EA6;\n",
              "    }\n",
              "\n",
              "    [theme=dark] .colab-df-convert {\n",
              "      background-color: #3B4455;\n",
              "      fill: #D2E3FC;\n",
              "    }\n",
              "\n",
              "    [theme=dark] .colab-df-convert:hover {\n",
              "      background-color: #434B5C;\n",
              "      box-shadow: 0px 1px 3px 1px rgba(0, 0, 0, 0.15);\n",
              "      filter: drop-shadow(0px 1px 2px rgba(0, 0, 0, 0.3));\n",
              "      fill: #FFFFFF;\n",
              "    }\n",
              "  </style>\n",
              "\n",
              "      <script>\n",
              "        const buttonEl =\n",
              "          document.querySelector('#df-6333cdcc-2508-4b84-925d-844fbf0a15b1 button.colab-df-convert');\n",
              "        buttonEl.style.display =\n",
              "          google.colab.kernel.accessAllowed ? 'block' : 'none';\n",
              "\n",
              "        async function convertToInteractive(key) {\n",
              "          const element = document.querySelector('#df-6333cdcc-2508-4b84-925d-844fbf0a15b1');\n",
              "          const dataTable =\n",
              "            await google.colab.kernel.invokeFunction('convertToInteractive',\n",
              "                                                     [key], {});\n",
              "          if (!dataTable) return;\n",
              "\n",
              "          const docLinkHtml = 'Like what you see? Visit the ' +\n",
              "            '<a target=\"_blank\" href=https://colab.research.google.com/notebooks/data_table.ipynb>data table notebook</a>'\n",
              "            + ' to learn more about interactive tables.';\n",
              "          element.innerHTML = '';\n",
              "          dataTable['output_type'] = 'display_data';\n",
              "          await google.colab.output.renderOutput(dataTable, element);\n",
              "          const docLink = document.createElement('div');\n",
              "          docLink.innerHTML = docLinkHtml;\n",
              "          element.appendChild(docLink);\n",
              "        }\n",
              "      </script>\n",
              "    </div>\n",
              "  </div>\n",
              "  "
            ]
          },
          "metadata": {},
          "execution_count": 10
        }
      ]
    },
    {
      "cell_type": "code",
      "source": [
        "df.isnull().values.any()  #veri setinde herhangi bir değişkende eksik veri bulunmamaktadır"
      ],
      "metadata": {
        "colab": {
          "base_uri": "https://localhost:8080/"
        },
        "id": "m9Hf59Gc8gbL",
        "outputId": "841c5a05-daaa-4035-b561-f37b6d82a98d"
      },
      "execution_count": 11,
      "outputs": [
        {
          "output_type": "execute_result",
          "data": {
            "text/plain": [
              "False"
            ]
          },
          "metadata": {},
          "execution_count": 11
        }
      ]
    },
    {
      "cell_type": "code",
      "source": [
        "df.isnull().sum() #veri setindeki değişkenlerdeki eksik değerlerin toplamı"
      ],
      "metadata": {
        "colab": {
          "base_uri": "https://localhost:8080/"
        },
        "id": "xD6IOD7m81Gl",
        "outputId": "dc02256b-4f01-4a3e-8d69-87e29a84bf40"
      },
      "execution_count": 12,
      "outputs": [
        {
          "output_type": "execute_result",
          "data": {
            "text/plain": [
              "Sıra                 0\n",
              "Kod                  0\n",
              "Ülke                 0\n",
              "Başkent              0\n",
              "Kıta                 0\n",
              "2022-Nüfus           0\n",
              "2020-Nüfus           0\n",
              "2015-Nüfus           0\n",
              "2010-Nüfus           0\n",
              "2000-Nüfus           0\n",
              "1990-Nüfus           0\n",
              "1980-Nüfus           0\n",
              "1970-Nüfus           0\n",
              "Yüzölçüm             0\n",
              "NüfusYoğunluğu       0\n",
              "BüyümeOranı          0\n",
              "DünyaNüfusYüzdesi    0\n",
              "dtype: int64"
            ]
          },
          "metadata": {},
          "execution_count": 12
        }
      ]
    },
    {
      "cell_type": "code",
      "source": [
        "df.duplicated().sum() # tekrarlanan verilerin toplamı"
      ],
      "metadata": {
        "colab": {
          "base_uri": "https://localhost:8080/"
        },
        "id": "B8Ke3gjZ83SR",
        "outputId": "6d08f6ca-9d7c-4aa2-850c-3e8012060af4"
      },
      "execution_count": 13,
      "outputs": [
        {
          "output_type": "execute_result",
          "data": {
            "text/plain": [
              "0"
            ]
          },
          "metadata": {},
          "execution_count": 13
        }
      ]
    },
    {
      "cell_type": "markdown",
      "source": [
        "**3) Keşifçi Veri Analizi ve Görselleştirme**"
      ],
      "metadata": {
        "id": "QOeJdYbx8_8E"
      }
    },
    {
      "cell_type": "code",
      "source": [
        "from matplotlib import pyplot as plt "
      ],
      "metadata": {
        "id": "u0oWH-NP87i5"
      },
      "execution_count": 14,
      "outputs": []
    },
    {
      "cell_type": "code",
      "source": [
        "df[\"2022-Nüfus\"].sum() #2022 yılındaki toplam dünya nüfusu"
      ],
      "metadata": {
        "colab": {
          "base_uri": "https://localhost:8080/"
        },
        "id": "ZUGTSfSV9JHG",
        "outputId": "c8e8d642-bc1d-4f06-8d85-6a8b3138014b"
      },
      "execution_count": 15,
      "outputs": [
        {
          "output_type": "execute_result",
          "data": {
            "text/plain": [
              "7973413042"
            ]
          },
          "metadata": {},
          "execution_count": 15
        }
      ]
    },
    {
      "cell_type": "code",
      "source": [
        "#Yüzölçümü, NüfusYoğunluğu ve BüyümeOranının Kıtalara göre kırılımı \n",
        "data1=df.groupby(\"Kıta\").agg({\"Yüzölçüm\": \"sum\",\"NüfusYoğunluğu\":\"sum\",\"BüyümeOranı\": \"mean\"}) "
      ],
      "metadata": {
        "id": "qJ5p36H59Nr2"
      },
      "execution_count": 16,
      "outputs": []
    },
    {
      "cell_type": "code",
      "source": [
        "data1.sort_values(ascending=0, by=\"Yüzölçüm\") #Kıtaların yüzölçümüne göre sıralanması"
      ],
      "metadata": {
        "colab": {
          "base_uri": "https://localhost:8080/",
          "height": 269
        },
        "id": "DEOswf_j9Omm",
        "outputId": "1b19d20a-8174-43f3-fdc9-1746f5a644ea"
      },
      "execution_count": 17,
      "outputs": [
        {
          "output_type": "execute_result",
          "data": {
            "text/plain": [
              "               Yüzölçüm  NüfusYoğunluğu  BüyümeOranı\n",
              "Kıta                                                \n",
              "Asia           32138141      51251.2068     1.009384\n",
              "Africa         30317963       7127.7158     1.021244\n",
              "North America  24244178      10910.4703     1.004175\n",
              "Europe         23010411      33166.2371     1.002256\n",
              "South America  17833382        293.6077     1.007957\n",
              "Oceania         8515081       3048.4905     1.007383"
            ],
            "text/html": [
              "\n",
              "  <div id=\"df-a45f7c3d-c2ab-44f1-b549-d15cb83aa179\">\n",
              "    <div class=\"colab-df-container\">\n",
              "      <div>\n",
              "<style scoped>\n",
              "    .dataframe tbody tr th:only-of-type {\n",
              "        vertical-align: middle;\n",
              "    }\n",
              "\n",
              "    .dataframe tbody tr th {\n",
              "        vertical-align: top;\n",
              "    }\n",
              "\n",
              "    .dataframe thead th {\n",
              "        text-align: right;\n",
              "    }\n",
              "</style>\n",
              "<table border=\"1\" class=\"dataframe\">\n",
              "  <thead>\n",
              "    <tr style=\"text-align: right;\">\n",
              "      <th></th>\n",
              "      <th>Yüzölçüm</th>\n",
              "      <th>NüfusYoğunluğu</th>\n",
              "      <th>BüyümeOranı</th>\n",
              "    </tr>\n",
              "    <tr>\n",
              "      <th>Kıta</th>\n",
              "      <th></th>\n",
              "      <th></th>\n",
              "      <th></th>\n",
              "    </tr>\n",
              "  </thead>\n",
              "  <tbody>\n",
              "    <tr>\n",
              "      <th>Asia</th>\n",
              "      <td>32138141</td>\n",
              "      <td>51251.2068</td>\n",
              "      <td>1.009384</td>\n",
              "    </tr>\n",
              "    <tr>\n",
              "      <th>Africa</th>\n",
              "      <td>30317963</td>\n",
              "      <td>7127.7158</td>\n",
              "      <td>1.021244</td>\n",
              "    </tr>\n",
              "    <tr>\n",
              "      <th>North America</th>\n",
              "      <td>24244178</td>\n",
              "      <td>10910.4703</td>\n",
              "      <td>1.004175</td>\n",
              "    </tr>\n",
              "    <tr>\n",
              "      <th>Europe</th>\n",
              "      <td>23010411</td>\n",
              "      <td>33166.2371</td>\n",
              "      <td>1.002256</td>\n",
              "    </tr>\n",
              "    <tr>\n",
              "      <th>South America</th>\n",
              "      <td>17833382</td>\n",
              "      <td>293.6077</td>\n",
              "      <td>1.007957</td>\n",
              "    </tr>\n",
              "    <tr>\n",
              "      <th>Oceania</th>\n",
              "      <td>8515081</td>\n",
              "      <td>3048.4905</td>\n",
              "      <td>1.007383</td>\n",
              "    </tr>\n",
              "  </tbody>\n",
              "</table>\n",
              "</div>\n",
              "      <button class=\"colab-df-convert\" onclick=\"convertToInteractive('df-a45f7c3d-c2ab-44f1-b549-d15cb83aa179')\"\n",
              "              title=\"Convert this dataframe to an interactive table.\"\n",
              "              style=\"display:none;\">\n",
              "        \n",
              "  <svg xmlns=\"http://www.w3.org/2000/svg\" height=\"24px\"viewBox=\"0 0 24 24\"\n",
              "       width=\"24px\">\n",
              "    <path d=\"M0 0h24v24H0V0z\" fill=\"none\"/>\n",
              "    <path d=\"M18.56 5.44l.94 2.06.94-2.06 2.06-.94-2.06-.94-.94-2.06-.94 2.06-2.06.94zm-11 1L8.5 8.5l.94-2.06 2.06-.94-2.06-.94L8.5 2.5l-.94 2.06-2.06.94zm10 10l.94 2.06.94-2.06 2.06-.94-2.06-.94-.94-2.06-.94 2.06-2.06.94z\"/><path d=\"M17.41 7.96l-1.37-1.37c-.4-.4-.92-.59-1.43-.59-.52 0-1.04.2-1.43.59L10.3 9.45l-7.72 7.72c-.78.78-.78 2.05 0 2.83L4 21.41c.39.39.9.59 1.41.59.51 0 1.02-.2 1.41-.59l7.78-7.78 2.81-2.81c.8-.78.8-2.07 0-2.86zM5.41 20L4 18.59l7.72-7.72 1.47 1.35L5.41 20z\"/>\n",
              "  </svg>\n",
              "      </button>\n",
              "      \n",
              "  <style>\n",
              "    .colab-df-container {\n",
              "      display:flex;\n",
              "      flex-wrap:wrap;\n",
              "      gap: 12px;\n",
              "    }\n",
              "\n",
              "    .colab-df-convert {\n",
              "      background-color: #E8F0FE;\n",
              "      border: none;\n",
              "      border-radius: 50%;\n",
              "      cursor: pointer;\n",
              "      display: none;\n",
              "      fill: #1967D2;\n",
              "      height: 32px;\n",
              "      padding: 0 0 0 0;\n",
              "      width: 32px;\n",
              "    }\n",
              "\n",
              "    .colab-df-convert:hover {\n",
              "      background-color: #E2EBFA;\n",
              "      box-shadow: 0px 1px 2px rgba(60, 64, 67, 0.3), 0px 1px 3px 1px rgba(60, 64, 67, 0.15);\n",
              "      fill: #174EA6;\n",
              "    }\n",
              "\n",
              "    [theme=dark] .colab-df-convert {\n",
              "      background-color: #3B4455;\n",
              "      fill: #D2E3FC;\n",
              "    }\n",
              "\n",
              "    [theme=dark] .colab-df-convert:hover {\n",
              "      background-color: #434B5C;\n",
              "      box-shadow: 0px 1px 3px 1px rgba(0, 0, 0, 0.15);\n",
              "      filter: drop-shadow(0px 1px 2px rgba(0, 0, 0, 0.3));\n",
              "      fill: #FFFFFF;\n",
              "    }\n",
              "  </style>\n",
              "\n",
              "      <script>\n",
              "        const buttonEl =\n",
              "          document.querySelector('#df-a45f7c3d-c2ab-44f1-b549-d15cb83aa179 button.colab-df-convert');\n",
              "        buttonEl.style.display =\n",
              "          google.colab.kernel.accessAllowed ? 'block' : 'none';\n",
              "\n",
              "        async function convertToInteractive(key) {\n",
              "          const element = document.querySelector('#df-a45f7c3d-c2ab-44f1-b549-d15cb83aa179');\n",
              "          const dataTable =\n",
              "            await google.colab.kernel.invokeFunction('convertToInteractive',\n",
              "                                                     [key], {});\n",
              "          if (!dataTable) return;\n",
              "\n",
              "          const docLinkHtml = 'Like what you see? Visit the ' +\n",
              "            '<a target=\"_blank\" href=https://colab.research.google.com/notebooks/data_table.ipynb>data table notebook</a>'\n",
              "            + ' to learn more about interactive tables.';\n",
              "          element.innerHTML = '';\n",
              "          dataTable['output_type'] = 'display_data';\n",
              "          await google.colab.output.renderOutput(dataTable, element);\n",
              "          const docLink = document.createElement('div');\n",
              "          docLink.innerHTML = docLinkHtml;\n",
              "          element.appendChild(docLink);\n",
              "        }\n",
              "      </script>\n",
              "    </div>\n",
              "  </div>\n",
              "  "
            ]
          },
          "metadata": {},
          "execution_count": 17
        }
      ]
    },
    {
      "cell_type": "code",
      "source": [
        "data1[\"Yüzölçüm\"].plot(kind=\"pie\", figsize=(10,6), autopct=\"%1.1f%%\") \n",
        "plt.title(\"Kıtaların Yüzölçümü\")\n",
        "plt.axis(\"equal\")\n",
        "plt.show()"
      ],
      "metadata": {
        "colab": {
          "base_uri": "https://localhost:8080/",
          "height": 373
        },
        "id": "JH-2t5nL9R9m",
        "outputId": "1d96b616-024b-4512-f271-df8048a4fd81"
      },
      "execution_count": 18,
      "outputs": [
        {
          "output_type": "display_data",
          "data": {
            "text/plain": [
              "<Figure size 720x432 with 1 Axes>"
            ],
            "image/png": "[encoded data removed]"
          },
          "metadata": {}
        }
      ]
    },
    {
      "cell_type": "code",
      "source": [
        "data1.sort_values(ascending=0, by=\"NüfusYoğunluğu\")"
      ],
      "metadata": {
        "colab": {
          "base_uri": "https://localhost:8080/",
          "height": 269
        },
        "id": "FNbHfo4y9YXG",
        "outputId": "730f65a0-15f8-462f-e909-9b77317e1e4f"
      },
      "execution_count": 19,
      "outputs": [
        {
          "output_type": "execute_result",
          "data": {
            "text/plain": [
              "               Yüzölçüm  NüfusYoğunluğu  BüyümeOranı\n",
              "Kıta                                                \n",
              "Asia           32138141      51251.2068     1.009384\n",
              "Europe         23010411      33166.2371     1.002256\n",
              "North America  24244178      10910.4703     1.004175\n",
              "Africa         30317963       7127.7158     1.021244\n",
              "Oceania         8515081       3048.4905     1.007383\n",
              "South America  17833382        293.6077     1.007957"
            ],
            "text/html": [
              "\n",
              "  <div id=\"df-162d44d0-dac3-4090-97bd-858b70095a74\">\n",
              "    <div class=\"colab-df-container\">\n",
              "      <div>\n",
              "<style scoped>\n",
              "    .dataframe tbody tr th:only-of-type {\n",
              "        vertical-align: middle;\n",
              "    }\n",
              "\n",
              "    .dataframe tbody tr th {\n",
              "        vertical-align: top;\n",
              "    }\n",
              "\n",
              "    .dataframe thead th {\n",
              "        text-align: right;\n",
              "    }\n",
              "</style>\n",
              "<table border=\"1\" class=\"dataframe\">\n",
              "  <thead>\n",
              "    <tr style=\"text-align: right;\">\n",
              "      <th></th>\n",
              "      <th>Yüzölçüm</th>\n",
              "      <th>NüfusYoğunluğu</th>\n",
              "      <th>BüyümeOranı</th>\n",
              "    </tr>\n",
              "    <tr>\n",
              "      <th>Kıta</th>\n",
              "      <th></th>\n",
              "      <th></th>\n",
              "      <th></th>\n",
              "    </tr>\n",
              "  </thead>\n",
              "  <tbody>\n",
              "    <tr>\n",
              "      <th>Asia</th>\n",
              "      <td>32138141</td>\n",
              "      <td>51251.2068</td>\n",
              "      <td>1.009384</td>\n",
              "    </tr>\n",
              "    <tr>\n",
              "      <th>Europe</th>\n",
              "      <td>23010411</td>\n",
              "      <td>33166.2371</td>\n",
              "      <td>1.002256</td>\n",
              "    </tr>\n",
              "    <tr>\n",
              "      <th>North America</th>\n",
              "      <td>24244178</td>\n",
              "      <td>10910.4703</td>\n",
              "      <td>1.004175</td>\n",
              "    </tr>\n",
              "    <tr>\n",
              "      <th>Africa</th>\n",
              "      <td>30317963</td>\n",
              "      <td>7127.7158</td>\n",
              "      <td>1.021244</td>\n",
              "    </tr>\n",
              "    <tr>\n",
              "      <th>Oceania</th>\n",
              "      <td>8515081</td>\n",
              "      <td>3048.4905</td>\n",
              "      <td>1.007383</td>\n",
              "    </tr>\n",
              "    <tr>\n",
              "      <th>South America</th>\n",
              "      <td>17833382</td>\n",
              "      <td>293.6077</td>\n",
              "      <td>1.007957</td>\n",
              "    </tr>\n",
              "  </tbody>\n",
              "</table>\n",
              "</div>\n",
              "      <button class=\"colab-df-convert\" onclick=\"convertToInteractive('df-162d44d0-dac3-4090-97bd-858b70095a74')\"\n",
              "              title=\"Convert this dataframe to an interactive table.\"\n",
              "              style=\"display:none;\">\n",
              "        \n",
              "  <svg xmlns=\"http://www.w3.org/2000/svg\" height=\"24px\"viewBox=\"0 0 24 24\"\n",
              "       width=\"24px\">\n",
              "    <path d=\"M0 0h24v24H0V0z\" fill=\"none\"/>\n",
              "    <path d=\"M18.56 5.44l.94 2.06.94-2.06 2.06-.94-2.06-.94-.94-2.06-.94 2.06-2.06.94zm-11 1L8.5 8.5l.94-2.06 2.06-.94-2.06-.94L8.5 2.5l-.94 2.06-2.06.94zm10 10l.94 2.06.94-2.06 2.06-.94-2.06-.94-.94-2.06-.94 2.06-2.06.94z\"/><path d=\"M17.41 7.96l-1.37-1.37c-.4-.4-.92-.59-1.43-.59-.52 0-1.04.2-1.43.59L10.3 9.45l-7.72 7.72c-.78.78-.78 2.05 0 2.83L4 21.41c.39.39.9.59 1.41.59.51 0 1.02-.2 1.41-.59l7.78-7.78 2.81-2.81c.8-.78.8-2.07 0-2.86zM5.41 20L4 18.59l7.72-7.72 1.47 1.35L5.41 20z\"/>\n",
              "  </svg>\n",
              "      </button>\n",
              "      \n",
              "  <style>\n",
              "    .colab-df-container {\n",
              "      display:flex;\n",
              "      flex-wrap:wrap;\n",
              "      gap: 12px;\n",
              "    }\n",
              "\n",
              "    .colab-df-convert {\n",
              "      background-color: #E8F0FE;\n",
              "      border: none;\n",
              "      border-radius: 50%;\n",
              "      cursor: pointer;\n",
              "      display: none;\n",
              "      fill: #1967D2;\n",
              "      height: 32px;\n",
              "      padding: 0 0 0 0;\n",
              "      width: 32px;\n",
              "    }\n",
              "\n",
              "    .colab-df-convert:hover {\n",
              "      background-color: #E2EBFA;\n",
              "      box-shadow: 0px 1px 2px rgba(60, 64, 67, 0.3), 0px 1px 3px 1px rgba(60, 64, 67, 0.15);\n",
              "      fill: #174EA6;\n",
              "    }\n",
              "\n",
              "    [theme=dark] .colab-df-convert {\n",
              "      background-color: #3B4455;\n",
              "      fill: #D2E3FC;\n",
              "    }\n",
              "\n",
              "    [theme=dark] .colab-df-convert:hover {\n",
              "      background-color: #434B5C;\n",
              "      box-shadow: 0px 1px 3px 1px rgba(0, 0, 0, 0.15);\n",
              "      filter: drop-shadow(0px 1px 2px rgba(0, 0, 0, 0.3));\n",
              "      fill: #FFFFFF;\n",
              "    }\n",
              "  </style>\n",
              "\n",
              "      <script>\n",
              "        const buttonEl =\n",
              "          document.querySelector('#df-162d44d0-dac3-4090-97bd-858b70095a74 button.colab-df-convert');\n",
              "        buttonEl.style.display =\n",
              "          google.colab.kernel.accessAllowed ? 'block' : 'none';\n",
              "\n",
              "        async function convertToInteractive(key) {\n",
              "          const element = document.querySelector('#df-162d44d0-dac3-4090-97bd-858b70095a74');\n",
              "          const dataTable =\n",
              "            await google.colab.kernel.invokeFunction('convertToInteractive',\n",
              "                                                     [key], {});\n",
              "          if (!dataTable) return;\n",
              "\n",
              "          const docLinkHtml = 'Like what you see? Visit the ' +\n",
              "            '<a target=\"_blank\" href=https://colab.research.google.com/notebooks/data_table.ipynb>data table notebook</a>'\n",
              "            + ' to learn more about interactive tables.';\n",
              "          element.innerHTML = '';\n",
              "          dataTable['output_type'] = 'display_data';\n",
              "          await google.colab.output.renderOutput(dataTable, element);\n",
              "          const docLink = document.createElement('div');\n",
              "          docLink.innerHTML = docLinkHtml;\n",
              "          element.appendChild(docLink);\n",
              "        }\n",
              "      </script>\n",
              "    </div>\n",
              "  </div>\n",
              "  "
            ]
          },
          "metadata": {},
          "execution_count": 19
        }
      ]
    },
    {
      "cell_type": "code",
      "source": [
        "data1[\"NüfusYoğunluğu\"].plot(kind=\"pie\", figsize=(10,6), autopct=\"%1.1f%%\") \n",
        "plt.title(\"Kıtalardaki Nüfus Yoğunluğu\")\n",
        "plt.axis(\"equal\")\n",
        "plt.show()"
      ],
      "metadata": {
        "colab": {
          "base_uri": "https://localhost:8080/",
          "height": 373
        },
        "id": "5ZILM1GM9eiW",
        "outputId": "27088b28-834f-40ac-9056-6c54f4a5e470"
      },
      "execution_count": 20,
      "outputs": [
        {
          "output_type": "display_data",
          "data": {
            "text/plain": [
              "<Figure size 720x432 with 1 Axes>"
            ],
            "image/png": "[encoded data removed]"
          },
          "metadata": {}
        }
      ]
    },
    {
      "cell_type": "code",
      "source": [
        "data1.sort_values(ascending=0, by=\"BüyümeOranı\")"
      ],
      "metadata": {
        "colab": {
          "base_uri": "https://localhost:8080/",
          "height": 269
        },
        "id": "JAh6Swnk9g76",
        "outputId": "37180749-34ef-4dfe-e3e5-667a2350d935"
      },
      "execution_count": 21,
      "outputs": [
        {
          "output_type": "execute_result",
          "data": {
            "text/plain": [
              "               Yüzölçüm  NüfusYoğunluğu  BüyümeOranı\n",
              "Kıta                                                \n",
              "Africa         30317963       7127.7158     1.021244\n",
              "Asia           32138141      51251.2068     1.009384\n",
              "South America  17833382        293.6077     1.007957\n",
              "Oceania         8515081       3048.4905     1.007383\n",
              "North America  24244178      10910.4703     1.004175\n",
              "Europe         23010411      33166.2371     1.002256"
            ],
            "text/html": [
              "\n",
              "  <div id=\"df-63031770-2fcd-4259-85ef-1187e4836f84\">\n",
              "    <div class=\"colab-df-container\">\n",
              "      <div>\n",
              "<style scoped>\n",
              "    .dataframe tbody tr th:only-of-type {\n",
              "        vertical-align: middle;\n",
              "    }\n",
              "\n",
              "    .dataframe tbody tr th {\n",
              "        vertical-align: top;\n",
              "    }\n",
              "\n",
              "    .dataframe thead th {\n",
              "        text-align: right;\n",
              "    }\n",
              "</style>\n",
              "<table border=\"1\" class=\"dataframe\">\n",
              "  <thead>\n",
              "    <tr style=\"text-align: right;\">\n",
              "      <th></th>\n",
              "      <th>Yüzölçüm</th>\n",
              "      <th>NüfusYoğunluğu</th>\n",
              "      <th>BüyümeOranı</th>\n",
              "    </tr>\n",
              "    <tr>\n",
              "      <th>Kıta</th>\n",
              "      <th></th>\n",
              "      <th></th>\n",
              "      <th></th>\n",
              "    </tr>\n",
              "  </thead>\n",
              "  <tbody>\n",
              "    <tr>\n",
              "      <th>Africa</th>\n",
              "      <td>30317963</td>\n",
              "      <td>7127.7158</td>\n",
              "      <td>1.021244</td>\n",
              "    </tr>\n",
              "    <tr>\n",
              "      <th>Asia</th>\n",
              "      <td>32138141</td>\n",
              "      <td>51251.2068</td>\n",
              "      <td>1.009384</td>\n",
              "    </tr>\n",
              "    <tr>\n",
              "      <th>South America</th>\n",
              "      <td>17833382</td>\n",
              "      <td>293.6077</td>\n",
              "      <td>1.007957</td>\n",
              "    </tr>\n",
              "    <tr>\n",
              "      <th>Oceania</th>\n",
              "      <td>8515081</td>\n",
              "      <td>3048.4905</td>\n",
              "      <td>1.007383</td>\n",
              "    </tr>\n",
              "    <tr>\n",
              "      <th>North America</th>\n",
              "      <td>24244178</td>\n",
              "      <td>10910.4703</td>\n",
              "      <td>1.004175</td>\n",
              "    </tr>\n",
              "    <tr>\n",
              "      <th>Europe</th>\n",
              "      <td>23010411</td>\n",
              "      <td>33166.2371</td>\n",
              "      <td>1.002256</td>\n",
              "    </tr>\n",
              "  </tbody>\n",
              "</table>\n",
              "</div>\n",
              "      <button class=\"colab-df-convert\" onclick=\"convertToInteractive('df-63031770-2fcd-4259-85ef-1187e4836f84')\"\n",
              "              title=\"Convert this dataframe to an interactive table.\"\n",
              "              style=\"display:none;\">\n",
              "        \n",
              "  <svg xmlns=\"http://www.w3.org/2000/svg\" height=\"24px\"viewBox=\"0 0 24 24\"\n",
              "       width=\"24px\">\n",
              "    <path d=\"M0 0h24v24H0V0z\" fill=\"none\"/>\n",
              "    <path d=\"M18.56 5.44l.94 2.06.94-2.06 2.06-.94-2.06-.94-.94-2.06-.94 2.06-2.06.94zm-11 1L8.5 8.5l.94-2.06 2.06-.94-2.06-.94L8.5 2.5l-.94 2.06-2.06.94zm10 10l.94 2.06.94-2.06 2.06-.94-2.06-.94-.94-2.06-.94 2.06-2.06.94z\"/><path d=\"M17.41 7.96l-1.37-1.37c-.4-.4-.92-.59-1.43-.59-.52 0-1.04.2-1.43.59L10.3 9.45l-7.72 7.72c-.78.78-.78 2.05 0 2.83L4 21.41c.39.39.9.59 1.41.59.51 0 1.02-.2 1.41-.59l7.78-7.78 2.81-2.81c.8-.78.8-2.07 0-2.86zM5.41 20L4 18.59l7.72-7.72 1.47 1.35L5.41 20z\"/>\n",
              "  </svg>\n",
              "      </button>\n",
              "      \n",
              "  <style>\n",
              "    .colab-df-container {\n",
              "      display:flex;\n",
              "      flex-wrap:wrap;\n",
              "      gap: 12px;\n",
              "    }\n",
              "\n",
              "    .colab-df-convert {\n",
              "      background-color: #E8F0FE;\n",
              "      border: none;\n",
              "      border-radius: 50%;\n",
              "      cursor: pointer;\n",
              "      display: none;\n",
              "      fill: #1967D2;\n",
              "      height: 32px;\n",
              "      padding: 0 0 0 0;\n",
              "      width: 32px;\n",
              "    }\n",
              "\n",
              "    .colab-df-convert:hover {\n",
              "      background-color: #E2EBFA;\n",
              "      box-shadow: 0px 1px 2px rgba(60, 64, 67, 0.3), 0px 1px 3px 1px rgba(60, 64, 67, 0.15);\n",
              "      fill: #174EA6;\n",
              "    }\n",
              "\n",
              "    [theme=dark] .colab-df-convert {\n",
              "      background-color: #3B4455;\n",
              "      fill: #D2E3FC;\n",
              "    }\n",
              "\n",
              "    [theme=dark] .colab-df-convert:hover {\n",
              "      background-color: #434B5C;\n",
              "      box-shadow: 0px 1px 3px 1px rgba(0, 0, 0, 0.15);\n",
              "      filter: drop-shadow(0px 1px 2px rgba(0, 0, 0, 0.3));\n",
              "      fill: #FFFFFF;\n",
              "    }\n",
              "  </style>\n",
              "\n",
              "      <script>\n",
              "        const buttonEl =\n",
              "          document.querySelector('#df-63031770-2fcd-4259-85ef-1187e4836f84 button.colab-df-convert');\n",
              "        buttonEl.style.display =\n",
              "          google.colab.kernel.accessAllowed ? 'block' : 'none';\n",
              "\n",
              "        async function convertToInteractive(key) {\n",
              "          const element = document.querySelector('#df-63031770-2fcd-4259-85ef-1187e4836f84');\n",
              "          const dataTable =\n",
              "            await google.colab.kernel.invokeFunction('convertToInteractive',\n",
              "                                                     [key], {});\n",
              "          if (!dataTable) return;\n",
              "\n",
              "          const docLinkHtml = 'Like what you see? Visit the ' +\n",
              "            '<a target=\"_blank\" href=https://colab.research.google.com/notebooks/data_table.ipynb>data table notebook</a>'\n",
              "            + ' to learn more about interactive tables.';\n",
              "          element.innerHTML = '';\n",
              "          dataTable['output_type'] = 'display_data';\n",
              "          await google.colab.output.renderOutput(dataTable, element);\n",
              "          const docLink = document.createElement('div');\n",
              "          docLink.innerHTML = docLinkHtml;\n",
              "          element.appendChild(docLink);\n",
              "        }\n",
              "      </script>\n",
              "    </div>\n",
              "  </div>\n",
              "  "
            ]
          },
          "metadata": {},
          "execution_count": 21
        }
      ]
    },
    {
      "cell_type": "markdown",
      "source": [
        "  \n",
        "\n",
        "*   Toplam dünya nüfusu 2022 yılında 7.973.413.042 ‘dir.\n",
        "*   Kıtalara göre Yüzölçüm ve NüfusYoğunluğu’nun toplamı ve BüyümeOranı’nın ortalamasını listeleyebiliriz. Buna göre Asya kıtasının yüz ölçümü ve nüfus yoğunluğu diğer kıtalardan fazladır. Büyüme oranı en fazla olan kıta ise Afrika kıtasıdır.\n",
        "\n",
        "*   Pasta grafikleri ile kıtaların yüzölçüm ve nüfus yoğunluklarının karşılaştırmasını görsel olarak rahatça yapabiliriz. Dünya nüfusunun büyük çoğunluğu yüzölçümü olarak en büyük kıta olan Asya’da toplanmıştır.\n",
        "*   Nüfus yoğunluğu en az olan kıta Güney Amerika’dır.\n",
        "\n",
        "*   Okyanusya kıtasının nüfus yoğunluğunun Güney Amerika’dan fazla olmasına rağmen Güney Amerika’nın yüzölçümünün Okyanusya kıtasına göre daha fazla olduğu görülmektedir.\n",
        "*   Avrupa kıtası yüzölçümü olarak 4.sırada olmasına rağmen nüfus yoğunluğu olarak 2.sıradadır.\n",
        "\n",
        "\n",
        "\n",
        "\n",
        "\n"
      ],
      "metadata": {
        "id": "rXiwPCok-Bjh"
      }
    },
    {
      "cell_type": "code",
      "source": [
        "data1[\"BüyümeOranı\"].plot(kind=\"line\", figsize=(15,8)) \n",
        "plt.title(\"Kıtalardaki Büyüme Oranları Ortalaması\")\n",
        "plt.show()"
      ],
      "metadata": {
        "colab": {
          "base_uri": "https://localhost:8080/",
          "height": 513
        },
        "id": "7-9pEqO39kb6",
        "outputId": "799a64d5-aaf1-4562-f8d7-fff9ff60a1f4"
      },
      "execution_count": 22,
      "outputs": [
        {
          "output_type": "display_data",
          "data": {
            "text/plain": [
              "<Figure size 1080x576 with 1 Axes>"
            ],
            "image/png": "[encoded data removed]"
          },
          "metadata": {
            "needs_background": "light"
          }
        }
      ]
    },
    {
      "cell_type": "markdown",
      "source": [
        "\n",
        "\n",
        "*   Büyüme oranı ortalama grafiğini incelediğimizde Avrupa kıtasının büyüme oranının diğer kıtalarla kıyaslandığında oldukça düşük olduğunu görüyoruz.\n",
        "*   Büyüme oranı en fazla olan kıta Afrika kıtasıdır ve onu Asya kıtası takip etmektedir.\n",
        "\n"
      ],
      "metadata": {
        "id": "E2UXm5ZS-2Pr"
      }
    },
    {
      "cell_type": "code",
      "source": [
        "data2=df.groupby(\"Kıta\").agg({\"2022-Nüfus\":\"sum\",\n",
        "                              \"2020-Nüfus\":\"sum\",\n",
        "                              \"2015-Nüfus\":\"sum\",\n",
        "                              \"2010-Nüfus\":\"sum\",\n",
        "                              \"2000-Nüfus\":\"sum\",\n",
        "                              \"1990-Nüfus\":\"sum\",\n",
        "                              \"1980-Nüfus\":\"sum\", \n",
        "                              \"1970-Nüfus\":\"sum\"})\n",
        "data2"
      ],
      "metadata": {
        "colab": {
          "base_uri": "https://localhost:8080/",
          "height": 269
        },
        "id": "-u9S5wfC9nWW",
        "outputId": "03eefe94-e387-43b8-866e-8518bc044441"
      },
      "execution_count": 23,
      "outputs": [
        {
          "output_type": "execute_result",
          "data": {
            "text/plain": [
              "               2022-Nüfus  2020-Nüfus  2015-Nüfus  2010-Nüfus  2000-Nüfus  \\\n",
              "Kıta                                                                        \n",
              "Africa         1426730932  1360671810  1201102442  1055228072   818946032   \n",
              "Asia           4721383274  4663086535  4458250182  4220041327  3735089604   \n",
              "Europe          743147538   745792196   741535608   735613934   726093423   \n",
              "North America   600296136   594236593   570383850   542720651   486069584   \n",
              "Oceania          45038554    43933426    40403283    37102764    31222778   \n",
              "South America   436816608   431530043   413134396   393078250   349634282   \n",
              "\n",
              "               1990-Nüfus  1980-Nüfus  1970-Nüfus  \n",
              "Kıta                                               \n",
              "Africa          638150629   481536377   365444348  \n",
              "Asia           3210563577  2635334228  2144906290  \n",
              "Europe          720320797   692527159   655923991  \n",
              "North America   421266425   368293361   315434606  \n",
              "Oceania          26743822    22920240    19480270  \n",
              "South America   297146415   241789006   192947156  "
            ],
            "text/html": [
              "\n",
              "  <div id=\"df-d6e2efad-6354-4700-b90c-2f968fa09598\">\n",
              "    <div class=\"colab-df-container\">\n",
              "      <div>\n",
              "<style scoped>\n",
              "    .dataframe tbody tr th:only-of-type {\n",
              "        vertical-align: middle;\n",
              "    }\n",
              "\n",
              "    .dataframe tbody tr th {\n",
              "        vertical-align: top;\n",
              "    }\n",
              "\n",
              "    .dataframe thead th {\n",
              "        text-align: right;\n",
              "    }\n",
              "</style>\n",
              "<table border=\"1\" class=\"dataframe\">\n",
              "  <thead>\n",
              "    <tr style=\"text-align: right;\">\n",
              "      <th></th>\n",
              "      <th>2022-Nüfus</th>\n",
              "      <th>2020-Nüfus</th>\n",
              "      <th>2015-Nüfus</th>\n",
              "      <th>2010-Nüfus</th>\n",
              "      <th>2000-Nüfus</th>\n",
              "      <th>1990-Nüfus</th>\n",
              "      <th>1980-Nüfus</th>\n",
              "      <th>1970-Nüfus</th>\n",
              "    </tr>\n",
              "    <tr>\n",
              "      <th>Kıta</th>\n",
              "      <th></th>\n",
              "      <th></th>\n",
              "      <th></th>\n",
              "      <th></th>\n",
              "      <th></th>\n",
              "      <th></th>\n",
              "      <th></th>\n",
              "      <th></th>\n",
              "    </tr>\n",
              "  </thead>\n",
              "  <tbody>\n",
              "    <tr>\n",
              "      <th>Africa</th>\n",
              "      <td>1426730932</td>\n",
              "      <td>1360671810</td>\n",
              "      <td>1201102442</td>\n",
              "      <td>1055228072</td>\n",
              "      <td>818946032</td>\n",
              "      <td>638150629</td>\n",
              "      <td>481536377</td>\n",
              "      <td>365444348</td>\n",
              "    </tr>\n",
              "    <tr>\n",
              "      <th>Asia</th>\n",
              "      <td>4721383274</td>\n",
              "      <td>4663086535</td>\n",
              "      <td>4458250182</td>\n",
              "      <td>4220041327</td>\n",
              "      <td>3735089604</td>\n",
              "      <td>3210563577</td>\n",
              "      <td>2635334228</td>\n",
              "      <td>2144906290</td>\n",
              "    </tr>\n",
              "    <tr>\n",
              "      <th>Europe</th>\n",
              "      <td>743147538</td>\n",
              "      <td>745792196</td>\n",
              "      <td>741535608</td>\n",
              "      <td>735613934</td>\n",
              "      <td>726093423</td>\n",
              "      <td>720320797</td>\n",
              "      <td>692527159</td>\n",
              "      <td>655923991</td>\n",
              "    </tr>\n",
              "    <tr>\n",
              "      <th>North America</th>\n",
              "      <td>600296136</td>\n",
              "      <td>594236593</td>\n",
              "      <td>570383850</td>\n",
              "      <td>542720651</td>\n",
              "      <td>486069584</td>\n",
              "      <td>421266425</td>\n",
              "      <td>368293361</td>\n",
              "      <td>315434606</td>\n",
              "    </tr>\n",
              "    <tr>\n",
              "      <th>Oceania</th>\n",
              "      <td>45038554</td>\n",
              "      <td>43933426</td>\n",
              "      <td>40403283</td>\n",
              "      <td>37102764</td>\n",
              "      <td>31222778</td>\n",
              "      <td>26743822</td>\n",
              "      <td>22920240</td>\n",
              "      <td>19480270</td>\n",
              "    </tr>\n",
              "    <tr>\n",
              "      <th>South America</th>\n",
              "      <td>436816608</td>\n",
              "      <td>431530043</td>\n",
              "      <td>413134396</td>\n",
              "      <td>393078250</td>\n",
              "      <td>349634282</td>\n",
              "      <td>297146415</td>\n",
              "      <td>241789006</td>\n",
              "      <td>192947156</td>\n",
              "    </tr>\n",
              "  </tbody>\n",
              "</table>\n",
              "</div>\n",
              "      <button class=\"colab-df-convert\" onclick=\"convertToInteractive('df-d6e2efad-6354-4700-b90c-2f968fa09598')\"\n",
              "              title=\"Convert this dataframe to an interactive table.\"\n",
              "              style=\"display:none;\">\n",
              "        \n",
              "  <svg xmlns=\"http://www.w3.org/2000/svg\" height=\"24px\"viewBox=\"0 0 24 24\"\n",
              "       width=\"24px\">\n",
              "    <path d=\"M0 0h24v24H0V0z\" fill=\"none\"/>\n",
              "    <path d=\"M18.56 5.44l.94 2.06.94-2.06 2.06-.94-2.06-.94-.94-2.06-.94 2.06-2.06.94zm-11 1L8.5 8.5l.94-2.06 2.06-.94-2.06-.94L8.5 2.5l-.94 2.06-2.06.94zm10 10l.94 2.06.94-2.06 2.06-.94-2.06-.94-.94-2.06-.94 2.06-2.06.94z\"/><path d=\"M17.41 7.96l-1.37-1.37c-.4-.4-.92-.59-1.43-.59-.52 0-1.04.2-1.43.59L10.3 9.45l-7.72 7.72c-.78.78-.78 2.05 0 2.83L4 21.41c.39.39.9.59 1.41.59.51 0 1.02-.2 1.41-.59l7.78-7.78 2.81-2.81c.8-.78.8-2.07 0-2.86zM5.41 20L4 18.59l7.72-7.72 1.47 1.35L5.41 20z\"/>\n",
              "  </svg>\n",
              "      </button>\n",
              "      \n",
              "  <style>\n",
              "    .colab-df-container {\n",
              "      display:flex;\n",
              "      flex-wrap:wrap;\n",
              "      gap: 12px;\n",
              "    }\n",
              "\n",
              "    .colab-df-convert {\n",
              "      background-color: #E8F0FE;\n",
              "      border: none;\n",
              "      border-radius: 50%;\n",
              "      cursor: pointer;\n",
              "      display: none;\n",
              "      fill: #1967D2;\n",
              "      height: 32px;\n",
              "      padding: 0 0 0 0;\n",
              "      width: 32px;\n",
              "    }\n",
              "\n",
              "    .colab-df-convert:hover {\n",
              "      background-color: #E2EBFA;\n",
              "      box-shadow: 0px 1px 2px rgba(60, 64, 67, 0.3), 0px 1px 3px 1px rgba(60, 64, 67, 0.15);\n",
              "      fill: #174EA6;\n",
              "    }\n",
              "\n",
              "    [theme=dark] .colab-df-convert {\n",
              "      background-color: #3B4455;\n",
              "      fill: #D2E3FC;\n",
              "    }\n",
              "\n",
              "    [theme=dark] .colab-df-convert:hover {\n",
              "      background-color: #434B5C;\n",
              "      box-shadow: 0px 1px 3px 1px rgba(0, 0, 0, 0.15);\n",
              "      filter: drop-shadow(0px 1px 2px rgba(0, 0, 0, 0.3));\n",
              "      fill: #FFFFFF;\n",
              "    }\n",
              "  </style>\n",
              "\n",
              "      <script>\n",
              "        const buttonEl =\n",
              "          document.querySelector('#df-d6e2efad-6354-4700-b90c-2f968fa09598 button.colab-df-convert');\n",
              "        buttonEl.style.display =\n",
              "          google.colab.kernel.accessAllowed ? 'block' : 'none';\n",
              "\n",
              "        async function convertToInteractive(key) {\n",
              "          const element = document.querySelector('#df-d6e2efad-6354-4700-b90c-2f968fa09598');\n",
              "          const dataTable =\n",
              "            await google.colab.kernel.invokeFunction('convertToInteractive',\n",
              "                                                     [key], {});\n",
              "          if (!dataTable) return;\n",
              "\n",
              "          const docLinkHtml = 'Like what you see? Visit the ' +\n",
              "            '<a target=\"_blank\" href=https://colab.research.google.com/notebooks/data_table.ipynb>data table notebook</a>'\n",
              "            + ' to learn more about interactive tables.';\n",
              "          element.innerHTML = '';\n",
              "          dataTable['output_type'] = 'display_data';\n",
              "          await google.colab.output.renderOutput(dataTable, element);\n",
              "          const docLink = document.createElement('div');\n",
              "          docLink.innerHTML = docLinkHtml;\n",
              "          element.appendChild(docLink);\n",
              "        }\n",
              "      </script>\n",
              "    </div>\n",
              "  </div>\n",
              "  "
            ]
          },
          "metadata": {},
          "execution_count": 23
        }
      ]
    },
    {
      "cell_type": "code",
      "source": [
        "plt.subplots(figsize=(15,8))\n",
        "result = data2.iloc[:,0:8].sum()[::-1]\n",
        "plt.plot(result.index, result.values,color=\"purple\", marker=\"d\")\n",
        "plt.grid()\n",
        "plt.title(\"1970-2022 Yılları Arasındaki Dünya Nüfus Değişimi\")\n",
        "plt.show()"
      ],
      "metadata": {
        "colab": {
          "base_uri": "https://localhost:8080/",
          "height": 499
        },
        "id": "-U9WI-SY_Crr",
        "outputId": "a54ccd00-3ebc-4947-f7c8-174d05630d72"
      },
      "execution_count": 24,
      "outputs": [
        {
          "output_type": "display_data",
          "data": {
            "text/plain": [
              "<Figure size 1080x576 with 1 Axes>"
            ],
            "image/png": "[encoded data removed]"
          },
          "metadata": {
            "needs_background": "light"
          }
        }
      ]
    },
    {
      "cell_type": "markdown",
      "source": [
        "\n",
        "\n",
        "*   1970-2022 Yılları Arasındaki Dünya Nüfus Değişimi çizgi grafiği ile dünya nüfusunun değişimini 1970 yılından 2022 yılına kadar 10 yıllık aralıklarla gözlemleyebiliriz.\n",
        "*   Nüfus 1970 yılından 2010 yılına kadarki süreçte neredeyse sabit bir hızla artış gösterirken 2010 yılından sonra artış hızının biraz azaldığını söyleyebiliriz.\n",
        "\n",
        "*   2022 yılı itibariyle nüfus 8 milyara yaklaşmıştır.\n",
        "\n",
        "\n",
        "\n"
      ],
      "metadata": {
        "id": "ye1JXc7D_NAB"
      }
    },
    {
      "cell_type": "code",
      "source": [
        "df_new = pd.DataFrame({\"Kıtalar\":[\"Africa\",\"Asia\",\"Europe\",\"North America\", \"Ocenia\", \"South America\"],\n",
        "                       \"2022\":[1426730932, 4721383274, 743147538,600296136,45038554,436816608],\n",
        "                       \"2000\":[818946032,\t3735089604,\t726093423,\t486069584,\t31222778,\t349634282],\n",
        "                       \"1970\":[365444348, 2144906290, 655923991, 315434606, 19480270,\t192947156],\n",
        "                       })\n",
        "df_new"
      ],
      "metadata": {
        "colab": {
          "base_uri": "https://localhost:8080/",
          "height": 237
        },
        "id": "6_LBDLqw_HXX",
        "outputId": "5731cf68-5cfe-4b12-dd6e-7e92878a46af"
      },
      "execution_count": 25,
      "outputs": [
        {
          "output_type": "execute_result",
          "data": {
            "text/plain": [
              "         Kıtalar        2022        2000        1970\n",
              "0         Africa  1426730932   818946032   365444348\n",
              "1           Asia  4721383274  3735089604  2144906290\n",
              "2         Europe   743147538   726093423   655923991\n",
              "3  North America   600296136   486069584   315434606\n",
              "4         Ocenia    45038554    31222778    19480270\n",
              "5  South America   436816608   349634282   192947156"
            ],
            "text/html": [
              "\n",
              "  <div id=\"df-0943c897-baa1-410b-9e68-9501dd88da61\">\n",
              "    <div class=\"colab-df-container\">\n",
              "      <div>\n",
              "<style scoped>\n",
              "    .dataframe tbody tr th:only-of-type {\n",
              "        vertical-align: middle;\n",
              "    }\n",
              "\n",
              "    .dataframe tbody tr th {\n",
              "        vertical-align: top;\n",
              "    }\n",
              "\n",
              "    .dataframe thead th {\n",
              "        text-align: right;\n",
              "    }\n",
              "</style>\n",
              "<table border=\"1\" class=\"dataframe\">\n",
              "  <thead>\n",
              "    <tr style=\"text-align: right;\">\n",
              "      <th></th>\n",
              "      <th>Kıtalar</th>\n",
              "      <th>2022</th>\n",
              "      <th>2000</th>\n",
              "      <th>1970</th>\n",
              "    </tr>\n",
              "  </thead>\n",
              "  <tbody>\n",
              "    <tr>\n",
              "      <th>0</th>\n",
              "      <td>Africa</td>\n",
              "      <td>1426730932</td>\n",
              "      <td>818946032</td>\n",
              "      <td>365444348</td>\n",
              "    </tr>\n",
              "    <tr>\n",
              "      <th>1</th>\n",
              "      <td>Asia</td>\n",
              "      <td>4721383274</td>\n",
              "      <td>3735089604</td>\n",
              "      <td>2144906290</td>\n",
              "    </tr>\n",
              "    <tr>\n",
              "      <th>2</th>\n",
              "      <td>Europe</td>\n",
              "      <td>743147538</td>\n",
              "      <td>726093423</td>\n",
              "      <td>655923991</td>\n",
              "    </tr>\n",
              "    <tr>\n",
              "      <th>3</th>\n",
              "      <td>North America</td>\n",
              "      <td>600296136</td>\n",
              "      <td>486069584</td>\n",
              "      <td>315434606</td>\n",
              "    </tr>\n",
              "    <tr>\n",
              "      <th>4</th>\n",
              "      <td>Ocenia</td>\n",
              "      <td>45038554</td>\n",
              "      <td>31222778</td>\n",
              "      <td>19480270</td>\n",
              "    </tr>\n",
              "    <tr>\n",
              "      <th>5</th>\n",
              "      <td>South America</td>\n",
              "      <td>436816608</td>\n",
              "      <td>349634282</td>\n",
              "      <td>192947156</td>\n",
              "    </tr>\n",
              "  </tbody>\n",
              "</table>\n",
              "</div>\n",
              "      <button class=\"colab-df-convert\" onclick=\"convertToInteractive('df-0943c897-baa1-410b-9e68-9501dd88da61')\"\n",
              "              title=\"Convert this dataframe to an interactive table.\"\n",
              "              style=\"display:none;\">\n",
              "        \n",
              "  <svg xmlns=\"http://www.w3.org/2000/svg\" height=\"24px\"viewBox=\"0 0 24 24\"\n",
              "       width=\"24px\">\n",
              "    <path d=\"M0 0h24v24H0V0z\" fill=\"none\"/>\n",
              "    <path d=\"M18.56 5.44l.94 2.06.94-2.06 2.06-.94-2.06-.94-.94-2.06-.94 2.06-2.06.94zm-11 1L8.5 8.5l.94-2.06 2.06-.94-2.06-.94L8.5 2.5l-.94 2.06-2.06.94zm10 10l.94 2.06.94-2.06 2.06-.94-2.06-.94-.94-2.06-.94 2.06-2.06.94z\"/><path d=\"M17.41 7.96l-1.37-1.37c-.4-.4-.92-.59-1.43-.59-.52 0-1.04.2-1.43.59L10.3 9.45l-7.72 7.72c-.78.78-.78 2.05 0 2.83L4 21.41c.39.39.9.59 1.41.59.51 0 1.02-.2 1.41-.59l7.78-7.78 2.81-2.81c.8-.78.8-2.07 0-2.86zM5.41 20L4 18.59l7.72-7.72 1.47 1.35L5.41 20z\"/>\n",
              "  </svg>\n",
              "      </button>\n",
              "      \n",
              "  <style>\n",
              "    .colab-df-container {\n",
              "      display:flex;\n",
              "      flex-wrap:wrap;\n",
              "      gap: 12px;\n",
              "    }\n",
              "\n",
              "    .colab-df-convert {\n",
              "      background-color: #E8F0FE;\n",
              "      border: none;\n",
              "      border-radius: 50%;\n",
              "      cursor: pointer;\n",
              "      display: none;\n",
              "      fill: #1967D2;\n",
              "      height: 32px;\n",
              "      padding: 0 0 0 0;\n",
              "      width: 32px;\n",
              "    }\n",
              "\n",
              "    .colab-df-convert:hover {\n",
              "      background-color: #E2EBFA;\n",
              "      box-shadow: 0px 1px 2px rgba(60, 64, 67, 0.3), 0px 1px 3px 1px rgba(60, 64, 67, 0.15);\n",
              "      fill: #174EA6;\n",
              "    }\n",
              "\n",
              "    [theme=dark] .colab-df-convert {\n",
              "      background-color: #3B4455;\n",
              "      fill: #D2E3FC;\n",
              "    }\n",
              "\n",
              "    [theme=dark] .colab-df-convert:hover {\n",
              "      background-color: #434B5C;\n",
              "      box-shadow: 0px 1px 3px 1px rgba(0, 0, 0, 0.15);\n",
              "      filter: drop-shadow(0px 1px 2px rgba(0, 0, 0, 0.3));\n",
              "      fill: #FFFFFF;\n",
              "    }\n",
              "  </style>\n",
              "\n",
              "      <script>\n",
              "        const buttonEl =\n",
              "          document.querySelector('#df-0943c897-baa1-410b-9e68-9501dd88da61 button.colab-df-convert');\n",
              "        buttonEl.style.display =\n",
              "          google.colab.kernel.accessAllowed ? 'block' : 'none';\n",
              "\n",
              "        async function convertToInteractive(key) {\n",
              "          const element = document.querySelector('#df-0943c897-baa1-410b-9e68-9501dd88da61');\n",
              "          const dataTable =\n",
              "            await google.colab.kernel.invokeFunction('convertToInteractive',\n",
              "                                                     [key], {});\n",
              "          if (!dataTable) return;\n",
              "\n",
              "          const docLinkHtml = 'Like what you see? Visit the ' +\n",
              "            '<a target=\"_blank\" href=https://colab.research.google.com/notebooks/data_table.ipynb>data table notebook</a>'\n",
              "            + ' to learn more about interactive tables.';\n",
              "          element.innerHTML = '';\n",
              "          dataTable['output_type'] = 'display_data';\n",
              "          await google.colab.output.renderOutput(dataTable, element);\n",
              "          const docLink = document.createElement('div');\n",
              "          docLink.innerHTML = docLinkHtml;\n",
              "          element.appendChild(docLink);\n",
              "        }\n",
              "      </script>\n",
              "    </div>\n",
              "  </div>\n",
              "  "
            ]
          },
          "metadata": {},
          "execution_count": 25
        }
      ]
    },
    {
      "cell_type": "code",
      "source": [
        "#kıtaların yıllara göre nüfus çizgi grafiği\n",
        "\n",
        "plt.subplots(figsize=(20,10))\n",
        "plt.plot(df_new[\"Kıtalar\"], df_new[\"2022\"], label=\"2022\", marker=\"o\")\n",
        "\n",
        "plt.plot(df_new[\"Kıtalar\"], df_new[\"1970\"], label=\"1970\", marker=\"o\", color=\"green\")\n",
        "\n",
        "plt.plot(df_new[\"Kıtalar\"], df_new[\"2000\"], label=\"2000\", marker=\"o\", color=\"red\")\n",
        "\n",
        "plt.title('2022-2000-1970 Yıllarında Kıtaların Nüfus Grafiği')\n",
        "\n",
        "plt.xlabel(\"Kıtalar\")\n",
        "plt.ylabel(\"Nüfus\")\n",
        "plt.grid()\n",
        "plt.legend()\n",
        "plt.show()"
      ],
      "metadata": {
        "colab": {
          "base_uri": "https://localhost:8080/",
          "height": 621
        },
        "id": "q8QAvVED_seq",
        "outputId": "d42b397e-d1f6-4b20-97ab-679b62b5826d"
      },
      "execution_count": 26,
      "outputs": [
        {
          "output_type": "display_data",
          "data": {
            "text/plain": [
              "<Figure size 1440x720 with 1 Axes>"
            ],
            "image/png": "[encoded data removed]"
          },
          "metadata": {
            "needs_background": "light"
          }
        }
      ]
    },
    {
      "cell_type": "markdown",
      "source": [
        "\n",
        "\n",
        "*   Kıtaların 2022, 2000 ve 1970 yıllarında nüfus karşılaştırmasını yapabileceğimiz bu çizgi grafiğinde Asya kıtasındaki nüfusun bu yıllar arasında en çok değişim gösterdiğini söyleyebiliriz. Hatta en büyük değişimin 1970-2000 yılları arasında yaşandığı görülebilir.\n",
        "*   Okyanusya kıtasına bakıldığında bu yıllar arasında 3 yıla ait grafikler çakışmaktadır. Buna göre nüfus değişiminin fazla olmadığını söyleyebiliriz ve Okyanusya kıtasının nüfus değişimi diğer kıtalarla kıyaslandığında en azdır.\n",
        "\n"
      ],
      "metadata": {
        "id": "6GX26frm_4Wv"
      }
    },
    {
      "cell_type": "code",
      "source": [
        "corr_data = [col for col in df.columns if ((col != \"Sıra\") & (df[col].dtype in [int,float])) ]\n",
        "corr_data"
      ],
      "metadata": {
        "colab": {
          "base_uri": "https://localhost:8080/"
        },
        "id": "twyCDtZA_wVj",
        "outputId": "96e28675-4be0-41b2-b73e-2c87e1e047a2"
      },
      "execution_count": 27,
      "outputs": [
        {
          "output_type": "execute_result",
          "data": {
            "text/plain": [
              "['2022-Nüfus',\n",
              " '2020-Nüfus',\n",
              " '2015-Nüfus',\n",
              " '2010-Nüfus',\n",
              " '2000-Nüfus',\n",
              " '1990-Nüfus',\n",
              " '1980-Nüfus',\n",
              " '1970-Nüfus',\n",
              " 'Yüzölçüm',\n",
              " 'NüfusYoğunluğu',\n",
              " 'BüyümeOranı',\n",
              " 'DünyaNüfusYüzdesi']"
            ]
          },
          "metadata": {},
          "execution_count": 27
        }
      ]
    },
    {
      "cell_type": "code",
      "source": [
        "corr_analysis = df[corr_data].corr()\n",
        "corr_analysis "
      ],
      "metadata": {
        "colab": {
          "base_uri": "https://localhost:8080/",
          "height": 426
        },
        "id": "E0TR3zUWAHvP",
        "outputId": "83bbd7d9-92de-4fa5-d59f-6a08872a3a28"
      },
      "execution_count": 28,
      "outputs": [
        {
          "output_type": "execute_result",
          "data": {
            "text/plain": [
              "                   2022-Nüfus  2020-Nüfus  2015-Nüfus  2010-Nüfus  2000-Nüfus  \\\n",
              "2022-Nüfus           1.000000    0.999946    0.999490    0.998629    0.994605   \n",
              "2020-Nüfus           0.999946    1.000000    0.999763    0.999105    0.995583   \n",
              "2015-Nüfus           0.999490    0.999763    1.000000    0.999783    0.997340   \n",
              "2010-Nüfus           0.998629    0.999105    0.999783    1.000000    0.998593   \n",
              "2000-Nüfus           0.994605    0.995583    0.997340    0.998593    1.000000   \n",
              "1990-Nüfus           0.987228    0.988724    0.991594    0.993929    0.998336   \n",
              "1980-Nüfus           0.980285    0.982121    0.985724    0.988786    0.995160   \n",
              "1970-Nüfus           0.973162    0.975254    0.979414    0.983042    0.990956   \n",
              "Yüzölçüm             0.453411    0.454993    0.458240    0.461936    0.473933   \n",
              "NüfusYoğunluğu      -0.027618   -0.027358   -0.026857   -0.026505   -0.026139   \n",
              "BüyümeOranı         -0.020863   -0.025116   -0.032154   -0.037983   -0.050515   \n",
              "DünyaNüfusYüzdesi    0.999999    0.999944    0.999487    0.998626    0.994598   \n",
              "\n",
              "                   1990-Nüfus  1980-Nüfus  1970-Nüfus  Yüzölçüm  \\\n",
              "2022-Nüfus           0.987228    0.980285    0.973162  0.453411   \n",
              "2020-Nüfus           0.988724    0.982121    0.975254  0.454993   \n",
              "2015-Nüfus           0.991594    0.985724    0.979414  0.458240   \n",
              "2010-Nüfus           0.993929    0.988786    0.983042  0.461936   \n",
              "2000-Nüfus           0.998336    0.995160    0.990956  0.473933   \n",
              "1990-Nüfus           1.000000    0.999042    0.996602  0.486764   \n",
              "1980-Nüfus           0.999042    1.000000    0.999194  0.498166   \n",
              "1970-Nüfus           0.996602    0.999194    1.000000  0.509940   \n",
              "Yüzölçüm             0.486764    0.498166    0.509940  1.000000   \n",
              "NüfusYoğunluğu      -0.026224   -0.026587   -0.026881 -0.063128   \n",
              "BüyümeOranı         -0.062397   -0.072349   -0.081313 -0.013970   \n",
              "DünyaNüfusYüzdesi    0.987218    0.980273    0.973150  0.453284   \n",
              "\n",
              "                   NüfusYoğunluğu  BüyümeOranı  DünyaNüfusYüzdesi  \n",
              "2022-Nüfus              -0.027618    -0.020863           0.999999  \n",
              "2020-Nüfus              -0.027358    -0.025116           0.999944  \n",
              "2015-Nüfus              -0.026857    -0.032154           0.999487  \n",
              "2010-Nüfus              -0.026505    -0.037983           0.998626  \n",
              "2000-Nüfus              -0.026139    -0.050515           0.994598  \n",
              "1990-Nüfus              -0.026224    -0.062397           0.987218  \n",
              "1980-Nüfus              -0.026587    -0.072349           0.980273  \n",
              "1970-Nüfus              -0.026881    -0.081313           0.973150  \n",
              "Yüzölçüm                -0.063128    -0.013970           0.453284  \n",
              "NüfusYoğunluğu           1.000000    -0.069753          -0.027646  \n",
              "BüyümeOranı             -0.069753     1.000000          -0.020930  \n",
              "DünyaNüfusYüzdesi       -0.027646    -0.020930           1.000000  "
            ],
            "text/html": [
              "\n",
              "  <div id=\"df-645eec13-7303-43ec-afc2-4dcc2a26e2a6\">\n",
              "    <div class=\"colab-df-container\">\n",
              "      <div>\n",
              "<style scoped>\n",
              "    .dataframe tbody tr th:only-of-type {\n",
              "        vertical-align: middle;\n",
              "    }\n",
              "\n",
              "    .dataframe tbody tr th {\n",
              "        vertical-align: top;\n",
              "    }\n",
              "\n",
              "    .dataframe thead th {\n",
              "        text-align: right;\n",
              "    }\n",
              "</style>\n",
              "<table border=\"1\" class=\"dataframe\">\n",
              "  <thead>\n",
              "    <tr style=\"text-align: right;\">\n",
              "      <th></th>\n",
              "      <th>2022-Nüfus</th>\n",
              "      <th>2020-Nüfus</th>\n",
              "      <th>2015-Nüfus</th>\n",
              "      <th>2010-Nüfus</th>\n",
              "      <th>2000-Nüfus</th>\n",
              "      <th>1990-Nüfus</th>\n",
              "      <th>1980-Nüfus</th>\n",
              "      <th>1970-Nüfus</th>\n",
              "      <th>Yüzölçüm</th>\n",
              "      <th>NüfusYoğunluğu</th>\n",
              "      <th>BüyümeOranı</th>\n",
              "      <th>DünyaNüfusYüzdesi</th>\n",
              "    </tr>\n",
              "  </thead>\n",
              "  <tbody>\n",
              "    <tr>\n",
              "      <th>2022-Nüfus</th>\n",
              "      <td>1.000000</td>\n",
              "      <td>0.999946</td>\n",
              "      <td>0.999490</td>\n",
              "      <td>0.998629</td>\n",
              "      <td>0.994605</td>\n",
              "      <td>0.987228</td>\n",
              "      <td>0.980285</td>\n",
              "      <td>0.973162</td>\n",
              "      <td>0.453411</td>\n",
              "      <td>-0.027618</td>\n",
              "      <td>-0.020863</td>\n",
              "      <td>0.999999</td>\n",
              "    </tr>\n",
              "    <tr>\n",
              "      <th>2020-Nüfus</th>\n",
              "      <td>0.999946</td>\n",
              "      <td>1.000000</td>\n",
              "      <td>0.999763</td>\n",
              "      <td>0.999105</td>\n",
              "      <td>0.995583</td>\n",
              "      <td>0.988724</td>\n",
              "      <td>0.982121</td>\n",
              "      <td>0.975254</td>\n",
              "      <td>0.454993</td>\n",
              "      <td>-0.027358</td>\n",
              "      <td>-0.025116</td>\n",
              "      <td>0.999944</td>\n",
              "    </tr>\n",
              "    <tr>\n",
              "      <th>2015-Nüfus</th>\n",
              "      <td>0.999490</td>\n",
              "      <td>0.999763</td>\n",
              "      <td>1.000000</td>\n",
              "      <td>0.999783</td>\n",
              "      <td>0.997340</td>\n",
              "      <td>0.991594</td>\n",
              "      <td>0.985724</td>\n",
              "      <td>0.979414</td>\n",
              "      <td>0.458240</td>\n",
              "      <td>-0.026857</td>\n",
              "      <td>-0.032154</td>\n",
              "      <td>0.999487</td>\n",
              "    </tr>\n",
              "    <tr>\n",
              "      <th>2010-Nüfus</th>\n",
              "      <td>0.998629</td>\n",
              "      <td>0.999105</td>\n",
              "      <td>0.999783</td>\n",
              "      <td>1.000000</td>\n",
              "      <td>0.998593</td>\n",
              "      <td>0.993929</td>\n",
              "      <td>0.988786</td>\n",
              "      <td>0.983042</td>\n",
              "      <td>0.461936</td>\n",
              "      <td>-0.026505</td>\n",
              "      <td>-0.037983</td>\n",
              "      <td>0.998626</td>\n",
              "    </tr>\n",
              "    <tr>\n",
              "      <th>2000-Nüfus</th>\n",
              "      <td>0.994605</td>\n",
              "      <td>0.995583</td>\n",
              "      <td>0.997340</td>\n",
              "      <td>0.998593</td>\n",
              "      <td>1.000000</td>\n",
              "      <td>0.998336</td>\n",
              "      <td>0.995160</td>\n",
              "      <td>0.990956</td>\n",
              "      <td>0.473933</td>\n",
              "      <td>-0.026139</td>\n",
              "      <td>-0.050515</td>\n",
              "      <td>0.994598</td>\n",
              "    </tr>\n",
              "    <tr>\n",
              "      <th>1990-Nüfus</th>\n",
              "      <td>0.987228</td>\n",
              "      <td>0.988724</td>\n",
              "      <td>0.991594</td>\n",
              "      <td>0.993929</td>\n",
              "      <td>0.998336</td>\n",
              "      <td>1.000000</td>\n",
              "      <td>0.999042</td>\n",
              "      <td>0.996602</td>\n",
              "      <td>0.486764</td>\n",
              "      <td>-0.026224</td>\n",
              "      <td>-0.062397</td>\n",
              "      <td>0.987218</td>\n",
              "    </tr>\n",
              "    <tr>\n",
              "      <th>1980-Nüfus</th>\n",
              "      <td>0.980285</td>\n",
              "      <td>0.982121</td>\n",
              "      <td>0.985724</td>\n",
              "      <td>0.988786</td>\n",
              "      <td>0.995160</td>\n",
              "      <td>0.999042</td>\n",
              "      <td>1.000000</td>\n",
              "      <td>0.999194</td>\n",
              "      <td>0.498166</td>\n",
              "      <td>-0.026587</td>\n",
              "      <td>-0.072349</td>\n",
              "      <td>0.980273</td>\n",
              "    </tr>\n",
              "    <tr>\n",
              "      <th>1970-Nüfus</th>\n",
              "      <td>0.973162</td>\n",
              "      <td>0.975254</td>\n",
              "      <td>0.979414</td>\n",
              "      <td>0.983042</td>\n",
              "      <td>0.990956</td>\n",
              "      <td>0.996602</td>\n",
              "      <td>0.999194</td>\n",
              "      <td>1.000000</td>\n",
              "      <td>0.509940</td>\n",
              "      <td>-0.026881</td>\n",
              "      <td>-0.081313</td>\n",
              "      <td>0.973150</td>\n",
              "    </tr>\n",
              "    <tr>\n",
              "      <th>Yüzölçüm</th>\n",
              "      <td>0.453411</td>\n",
              "      <td>0.454993</td>\n",
              "      <td>0.458240</td>\n",
              "      <td>0.461936</td>\n",
              "      <td>0.473933</td>\n",
              "      <td>0.486764</td>\n",
              "      <td>0.498166</td>\n",
              "      <td>0.509940</td>\n",
              "      <td>1.000000</td>\n",
              "      <td>-0.063128</td>\n",
              "      <td>-0.013970</td>\n",
              "      <td>0.453284</td>\n",
              "    </tr>\n",
              "    <tr>\n",
              "      <th>NüfusYoğunluğu</th>\n",
              "      <td>-0.027618</td>\n",
              "      <td>-0.027358</td>\n",
              "      <td>-0.026857</td>\n",
              "      <td>-0.026505</td>\n",
              "      <td>-0.026139</td>\n",
              "      <td>-0.026224</td>\n",
              "      <td>-0.026587</td>\n",
              "      <td>-0.026881</td>\n",
              "      <td>-0.063128</td>\n",
              "      <td>1.000000</td>\n",
              "      <td>-0.069753</td>\n",
              "      <td>-0.027646</td>\n",
              "    </tr>\n",
              "    <tr>\n",
              "      <th>BüyümeOranı</th>\n",
              "      <td>-0.020863</td>\n",
              "      <td>-0.025116</td>\n",
              "      <td>-0.032154</td>\n",
              "      <td>-0.037983</td>\n",
              "      <td>-0.050515</td>\n",
              "      <td>-0.062397</td>\n",
              "      <td>-0.072349</td>\n",
              "      <td>-0.081313</td>\n",
              "      <td>-0.013970</td>\n",
              "      <td>-0.069753</td>\n",
              "      <td>1.000000</td>\n",
              "      <td>-0.020930</td>\n",
              "    </tr>\n",
              "    <tr>\n",
              "      <th>DünyaNüfusYüzdesi</th>\n",
              "      <td>0.999999</td>\n",
              "      <td>0.999944</td>\n",
              "      <td>0.999487</td>\n",
              "      <td>0.998626</td>\n",
              "      <td>0.994598</td>\n",
              "      <td>0.987218</td>\n",
              "      <td>0.980273</td>\n",
              "      <td>0.973150</td>\n",
              "      <td>0.453284</td>\n",
              "      <td>-0.027646</td>\n",
              "      <td>-0.020930</td>\n",
              "      <td>1.000000</td>\n",
              "    </tr>\n",
              "  </tbody>\n",
              "</table>\n",
              "</div>\n",
              "      <button class=\"colab-df-convert\" onclick=\"convertToInteractive('df-645eec13-7303-43ec-afc2-4dcc2a26e2a6')\"\n",
              "              title=\"Convert this dataframe to an interactive table.\"\n",
              "              style=\"display:none;\">\n",
              "        \n",
              "  <svg xmlns=\"http://www.w3.org/2000/svg\" height=\"24px\"viewBox=\"0 0 24 24\"\n",
              "       width=\"24px\">\n",
              "    <path d=\"M0 0h24v24H0V0z\" fill=\"none\"/>\n",
              "    <path d=\"M18.56 5.44l.94 2.06.94-2.06 2.06-.94-2.06-.94-.94-2.06-.94 2.06-2.06.94zm-11 1L8.5 8.5l.94-2.06 2.06-.94-2.06-.94L8.5 2.5l-.94 2.06-2.06.94zm10 10l.94 2.06.94-2.06 2.06-.94-2.06-.94-.94-2.06-.94 2.06-2.06.94z\"/><path d=\"M17.41 7.96l-1.37-1.37c-.4-.4-.92-.59-1.43-.59-.52 0-1.04.2-1.43.59L10.3 9.45l-7.72 7.72c-.78.78-.78 2.05 0 2.83L4 21.41c.39.39.9.59 1.41.59.51 0 1.02-.2 1.41-.59l7.78-7.78 2.81-2.81c.8-.78.8-2.07 0-2.86zM5.41 20L4 18.59l7.72-7.72 1.47 1.35L5.41 20z\"/>\n",
              "  </svg>\n",
              "      </button>\n",
              "      \n",
              "  <style>\n",
              "    .colab-df-container {\n",
              "      display:flex;\n",
              "      flex-wrap:wrap;\n",
              "      gap: 12px;\n",
              "    }\n",
              "\n",
              "    .colab-df-convert {\n",
              "      background-color: #E8F0FE;\n",
              "      border: none;\n",
              "      border-radius: 50%;\n",
              "      cursor: pointer;\n",
              "      display: none;\n",
              "      fill: #1967D2;\n",
              "      height: 32px;\n",
              "      padding: 0 0 0 0;\n",
              "      width: 32px;\n",
              "    }\n",
              "\n",
              "    .colab-df-convert:hover {\n",
              "      background-color: #E2EBFA;\n",
              "      box-shadow: 0px 1px 2px rgba(60, 64, 67, 0.3), 0px 1px 3px 1px rgba(60, 64, 67, 0.15);\n",
              "      fill: #174EA6;\n",
              "    }\n",
              "\n",
              "    [theme=dark] .colab-df-convert {\n",
              "      background-color: #3B4455;\n",
              "      fill: #D2E3FC;\n",
              "    }\n",
              "\n",
              "    [theme=dark] .colab-df-convert:hover {\n",
              "      background-color: #434B5C;\n",
              "      box-shadow: 0px 1px 3px 1px rgba(0, 0, 0, 0.15);\n",
              "      filter: drop-shadow(0px 1px 2px rgba(0, 0, 0, 0.3));\n",
              "      fill: #FFFFFF;\n",
              "    }\n",
              "  </style>\n",
              "\n",
              "      <script>\n",
              "        const buttonEl =\n",
              "          document.querySelector('#df-645eec13-7303-43ec-afc2-4dcc2a26e2a6 button.colab-df-convert');\n",
              "        buttonEl.style.display =\n",
              "          google.colab.kernel.accessAllowed ? 'block' : 'none';\n",
              "\n",
              "        async function convertToInteractive(key) {\n",
              "          const element = document.querySelector('#df-645eec13-7303-43ec-afc2-4dcc2a26e2a6');\n",
              "          const dataTable =\n",
              "            await google.colab.kernel.invokeFunction('convertToInteractive',\n",
              "                                                     [key], {});\n",
              "          if (!dataTable) return;\n",
              "\n",
              "          const docLinkHtml = 'Like what you see? Visit the ' +\n",
              "            '<a target=\"_blank\" href=https://colab.research.google.com/notebooks/data_table.ipynb>data table notebook</a>'\n",
              "            + ' to learn more about interactive tables.';\n",
              "          element.innerHTML = '';\n",
              "          dataTable['output_type'] = 'display_data';\n",
              "          await google.colab.output.renderOutput(dataTable, element);\n",
              "          const docLink = document.createElement('div');\n",
              "          docLink.innerHTML = docLinkHtml;\n",
              "          element.appendChild(docLink);\n",
              "        }\n",
              "      </script>\n",
              "    </div>\n",
              "  </div>\n",
              "  "
            ]
          },
          "metadata": {},
          "execution_count": 28
        }
      ]
    },
    {
      "cell_type": "markdown",
      "source": [
        "Veri setindeki verilerin birbirleriyle olan ilişkisini inceleyebilmek için korelasyon analizi yapılması gereklidir. Korelasyon analizinde değerler -1 ile 1 arasındadır. Değer 1 veya -1’e yaklaştıkça ilişkinin kuvvetlendiğini, 0’a yaklaştıkça ilişkinin zayıfladığını anlayabiliriz. (-) değerler negatif korelasyona (+) değerler ise pozitif korelasyon varlığına işaret eder."
      ],
      "metadata": {
        "id": "XNj2vePiARIO"
      }
    },
    {
      "cell_type": "code",
      "source": [
        "import seaborn as sns"
      ],
      "metadata": {
        "id": "JH7hViCWAM2X"
      },
      "execution_count": 29,
      "outputs": []
    },
    {
      "cell_type": "markdown",
      "source": [
        "Seaborn kütüphanesinde bulunan heatmap ile tablodaki verileri ilişkilerin şiddetlerine göre renklendirerek bu tabloyu daha anlamlı hale getirebiliriz."
      ],
      "metadata": {
        "id": "yxWarpbvAh24"
      }
    },
    {
      "cell_type": "code",
      "source": [
        "sns.set(rc={\"figure.figsize\":(10,10)})\n",
        "sns.heatmap(corr_analysis, cmap=\"BuPu\", vmin=-1, vmax=1)\n",
        "plt.show()"
      ],
      "metadata": {
        "colab": {
          "base_uri": "https://localhost:8080/",
          "height": 696
        },
        "id": "wNaPUad-AXSz",
        "outputId": "52c9e56d-921f-44c8-ce86-2ee8a5e9b8af"
      },
      "execution_count": 30,
      "outputs": [
        {
          "output_type": "display_data",
          "data": {
            "text/plain": [
              "<Figure size 720x720 with 2 Axes>"
            ],
            "image/png": "[encoded data removed]"
          },
          "metadata": {}
        }
      ]
    },
    {
      "cell_type": "markdown",
      "source": [
        "Veri seti seçerken planımız BüyümeOranı ile nüfus tahmini yapmaktı ancak burada BüyümeOranı ile yıllar arasındaki ilişki şiddetinin oldukça düşük olduğunu, Yüzölçümü ile yıllar arasında ise BüyümeOranı'na göre daha fazla korelasyon olduğunu gözlemliyoruz. O halde Yüzölçüm ile yıllar üzerine bir makine öğrenmesi modeli oluşturulabilir. Bunun için saçılma grafiklerini (scatter plot) kullanarak hangi değişkenler arasında doğrusal bir ilişki oluşabilir inceleyelim."
      ],
      "metadata": {
        "id": "3VdkvTidApPp"
      }
    },
    {
      "cell_type": "markdown",
      "source": [
        "Öncelikle Yüzölçüm ile NüfusYoğunluğu değerleri arasındaki ilişkiyi gözlemlersek:"
      ],
      "metadata": {
        "id": "_K7ezkCwAsaj"
      }
    },
    {
      "cell_type": "code",
      "source": [
        "plt.scatter(x=df[\"Yüzölçüm\"], y=df[\"NüfusYoğunluğu\"], color=\"blue\")\n",
        "plt.xlabel(\"Yüzölçüm Değerleri\")\n",
        "plt.ylabel(\"Nüfus Yoğunluğu\")\n",
        "plt.show()"
      ],
      "metadata": {
        "colab": {
          "base_uri": "https://localhost:8080/",
          "height": 611
        },
        "id": "mFa9KKGEAbYj",
        "outputId": "6c47f220-6ab6-4c16-ae3f-bf97db3d05d8"
      },
      "execution_count": 31,
      "outputs": [
        {
          "output_type": "display_data",
          "data": {
            "text/plain": [
              "<Figure size 720x720 with 1 Axes>"
            ],
            "image/png": "[encoded data removed]"
          },
          "metadata": {}
        }
      ]
    },
    {
      "cell_type": "markdown",
      "source": [
        "Bu değerler arasında herhangi bir doğrusal ilişki bulunmadığını grafikten anlayabiliyoruz. \n",
        " \n",
        " Aynı şekilde Yüzölçüm ve DünyaNüfusYüzdesi arasındaki ilişkiyi incelersek:"
      ],
      "metadata": {
        "id": "dWckwX5cA7lK"
      }
    },
    {
      "cell_type": "code",
      "source": [
        "plt.scatter(x=df[\"Yüzölçüm\"], y=df[\"DünyaNüfusYüzdesi\"], color=\"red\")\n",
        "plt.xlabel(\"Yüzölçüm Değerleri\")\n",
        "plt.ylabel(\"Dünya Nüfusu Yüzdesi\")\n",
        "plt.show()"
      ],
      "metadata": {
        "colab": {
          "base_uri": "https://localhost:8080/",
          "height": 611
        },
        "id": "qghsLyurA3Xr",
        "outputId": "498e1a38-41e4-43e7-d5b0-4f83267274c8"
      },
      "execution_count": 32,
      "outputs": [
        {
          "output_type": "display_data",
          "data": {
            "text/plain": [
              "<Figure size 720x720 with 1 Axes>"
            ],
            "image/png": "[encoded data removed]"
          },
          "metadata": {}
        }
      ]
    },
    {
      "cell_type": "markdown",
      "source": [
        "Aynı şekilde Yüzölçüm ve BüyümeOranı arasındaki ilişkiyi incelersek:"
      ],
      "metadata": {
        "id": "nHW6XXeWBzMA"
      }
    },
    {
      "cell_type": "code",
      "source": [
        "plt.scatter(x=df[\"Yüzölçüm\"], y=df[\"BüyümeOranı\"], color=\"green\")\n",
        "plt.xlabel(\"Yüzölçüm Değerleri\")\n",
        "plt.ylabel(\"Büyüme Oranı\")\n",
        "plt.show()"
      ],
      "metadata": {
        "colab": {
          "base_uri": "https://localhost:8080/",
          "height": 611
        },
        "id": "YM_GNQ92Bvwf",
        "outputId": "846ee0f5-9f90-4756-e6a6-680c6f3cdc4f"
      },
      "execution_count": 33,
      "outputs": [
        {
          "output_type": "display_data",
          "data": {
            "text/plain": [
              "<Figure size 720x720 with 1 Axes>"
            ],
            "image/png": "[encoded data removed]"
          },
          "metadata": {}
        }
      ]
    },
    {
      "cell_type": "markdown",
      "source": [
        "Aynı şekilde BüyümeOranı ve 2022-Nüfus arasındaki ilişkiyi incelersek:"
      ],
      "metadata": {
        "id": "5kKOJCDtB7xA"
      }
    },
    {
      "cell_type": "code",
      "source": [
        "plt.scatter(x=df[\"BüyümeOranı\"], y=df[\"2022-Nüfus\"], color=\"red\")\n",
        "plt.xlabel(\"Büyüme Oranı\")\n",
        "plt.ylabel(\"2022 Yılı Nüfus Değerleri\")\n",
        "plt.show()"
      ],
      "metadata": {
        "colab": {
          "base_uri": "https://localhost:8080/",
          "height": 622
        },
        "id": "JZZwiB3WB4Wv",
        "outputId": "78b1d5be-29e0-43a5-dcf1-9d278c7f0fae"
      },
      "execution_count": 34,
      "outputs": [
        {
          "output_type": "display_data",
          "data": {
            "text/plain": [
              "<Figure size 720x720 with 1 Axes>"
            ],
            "image/png": "[encoded data removed]"
          },
          "metadata": {}
        }
      ]
    },
    {
      "cell_type": "markdown",
      "source": [
        "Grafiklere bakıldığında doğrusal bir ilişkiye en yakın olabilecek ilişki Yüzölçüm ve DünyaNüfusYoğunluğu arasında olduğu görülmektedir.\n",
        "\n",
        "   Makine öğrenmesi sürecini bu iki değişken üzerinde ilerletip sonuçları inceleyebiliriz."
      ],
      "metadata": {
        "id": "Sz38qEYaCDju"
      }
    },
    {
      "cell_type": "markdown",
      "source": [
        "**4) Model Kurulması**"
      ],
      "metadata": {
        "id": "OiA2ypQiCMLD"
      }
    },
    {
      "cell_type": "code",
      "source": [
        "import sklearn.model_selection\n",
        "import numpy as np "
      ],
      "metadata": {
        "id": "cskx57QoCAUr"
      },
      "execution_count": 35,
      "outputs": []
    },
    {
      "cell_type": "markdown",
      "source": [
        "Lineer regresyon için x değişkeni ve y değişkenine Yüzölçüm ile DünyaNüfusYoğunluğu‘nu atıyoruz."
      ],
      "metadata": {
        "id": "e3VCq89SCV6y"
      }
    },
    {
      "cell_type": "code",
      "source": [
        "#Bağımlı ve bağımsız değişkenlerin seçimi\n",
        "x=df[\"Yüzölçüm\"]\n",
        "y=df[\"DünyaNüfusYüzdesi\"]"
      ],
      "metadata": {
        "id": "WBY2edebCXiv"
      },
      "execution_count": 37,
      "outputs": []
    },
    {
      "cell_type": "markdown",
      "source": [
        "Modelin, verilerin belli bir kısmıyla\n",
        "öğrenmesini sağlayıp kalanlarıyla tahmin yapabilmesi için veri setindeki verileri test ve train olarak belli bir oranda (train oranı = 0,8) ayırıyoruz."
      ],
      "metadata": {
        "id": "KIvbT1E2Cxo0"
      }
    },
    {
      "cell_type": "code",
      "source": [
        "x_train, x_test, y_train, y_test =  sklearn.model_selection.train_test_split(x,y, train_size=0.8)"
      ],
      "metadata": {
        "id": "NtaQLDAiCzU7"
      },
      "execution_count": 38,
      "outputs": []
    },
    {
      "cell_type": "markdown",
      "source": [
        "train ve test verilerini numpy arraylerine dönüştürerek yöntemin uygulanabilmesi için uygun formata getirilmesini sağlıyoruz."
      ],
      "metadata": {
        "id": "X2sVL8jKDPz3"
      }
    },
    {
      "cell_type": "code",
      "source": [
        "x_train = np.array(x_train)\n",
        "x_test = np.array(x_test)\n",
        "y_train = np.array(y_train)\n",
        "y_test = np.array(y_test)"
      ],
      "metadata": {
        "id": "SZSionXYC7Of"
      },
      "execution_count": 39,
      "outputs": []
    },
    {
      "cell_type": "code",
      "source": [
        "x_train.shape"
      ],
      "metadata": {
        "colab": {
          "base_uri": "https://localhost:8080/"
        },
        "id": "GGmUfpi9DHg3",
        "outputId": "bc3f2b7e-fb9f-4864-a02c-53a3e4328bc5"
      },
      "execution_count": 40,
      "outputs": [
        {
          "output_type": "execute_result",
          "data": {
            "text/plain": [
              "(187,)"
            ]
          },
          "metadata": {},
          "execution_count": 40
        }
      ]
    },
    {
      "cell_type": "code",
      "source": [
        "x_train = x_train.reshape(-1,1)\n",
        "x_test = x_test.reshape(-1,1)\n",
        "y_train = y_train.reshape(-1,1)\n",
        "y_test = y_test.reshape(-1,1)"
      ],
      "metadata": {
        "id": "nTUZ-5poDIJn"
      },
      "execution_count": 41,
      "outputs": []
    },
    {
      "cell_type": "code",
      "source": [
        "x_train.shape"
      ],
      "metadata": {
        "colab": {
          "base_uri": "https://localhost:8080/"
        },
        "id": "dSa6o4mwDKXv",
        "outputId": "bdf2dd40-83e2-4dc0-d5e8-c0efbccd0654"
      },
      "execution_count": 42,
      "outputs": [
        {
          "output_type": "execute_result",
          "data": {
            "text/plain": [
              "(187, 1)"
            ]
          },
          "metadata": {},
          "execution_count": 42
        }
      ]
    },
    {
      "cell_type": "markdown",
      "source": [
        "Bu süreçlerle beraber veriler istenilen formatta olduğu için seçilen yöntem olan lineer regresyon ile model kurulabilir.    \n",
        "Model kurulurken train yani eğitim için ayrılan veriler kullanılmaktadır."
      ],
      "metadata": {
        "id": "F4rWx2Z6DbYp"
      }
    },
    {
      "cell_type": "code",
      "source": [
        "import sklearn.linear_model"
      ],
      "metadata": {
        "id": "uq4wKyeyDZvX"
      },
      "execution_count": 44,
      "outputs": []
    },
    {
      "cell_type": "code",
      "source": [
        "lin_model= sklearn.linear_model.LinearRegression()\n",
        "lin_model.fit(x_train,y_train)"
      ],
      "metadata": {
        "colab": {
          "base_uri": "https://localhost:8080/"
        },
        "id": "Vw0Zx8a7Ditr",
        "outputId": "84e996e5-147c-426d-9f7d-462af57d9bc5"
      },
      "execution_count": 45,
      "outputs": [
        {
          "output_type": "execute_result",
          "data": {
            "text/plain": [
              "LinearRegression()"
            ]
          },
          "metadata": {},
          "execution_count": 45
        }
      ]
    },
    {
      "cell_type": "markdown",
      "source": [
        "Modelimiz hazır artık modeli test edip metrikleri inceleyerek modelin nasıl çalıştığını analiz edebiliriz."
      ],
      "metadata": {
        "id": "RqMQyY2-DqOB"
      }
    },
    {
      "cell_type": "markdown",
      "source": [
        "**5) Modelin Test Edilmesi ve Metrikler**"
      ],
      "metadata": {
        "id": "9tbmhPcNDnTT"
      }
    },
    {
      "cell_type": "markdown",
      "source": [
        "Model başarıyla kurulduktan sonra daha önce test ve train olarak ayrılan veri setinin train kısmı modelin eğitilmesinde kullanılmıştı.   \n",
        " Şimdi de test verilerini modelin test edilmesinde test verileri kullanılacaktır."
      ],
      "metadata": {
        "id": "3QeByaWWD9MC"
      }
    },
    {
      "cell_type": "code",
      "source": [
        "import sklearn.metrics"
      ],
      "metadata": {
        "id": "xiYQiPy3Dkfn"
      },
      "execution_count": 47,
      "outputs": []
    },
    {
      "cell_type": "code",
      "source": [
        "y_predicts = lin_model.predict(x_test)"
      ],
      "metadata": {
        "id": "NQMmGQklEl8Y"
      },
      "execution_count": 48,
      "outputs": []
    },
    {
      "cell_type": "markdown",
      "source": [
        "y_predicts değerleri modelin tahmin değerlerini vermektedir. Bu değerleri inceleyebiliriz."
      ],
      "metadata": {
        "id": "gtoae32jEedi"
      }
    },
    {
      "cell_type": "code",
      "source": [
        "print(y_predicts)"
      ],
      "metadata": {
        "colab": {
          "base_uri": "https://localhost:8080/"
        },
        "id": "p9u1j_o6EVZj",
        "outputId": "da81634d-5d0e-4ad6-b016-d5bf5018ff9e"
      },
      "execution_count": 49,
      "outputs": [
        {
          "output_type": "stream",
          "name": "stdout",
          "text": [
            "[[0.16706332]\n",
            " [0.16703489]\n",
            " [0.16705414]\n",
            " [0.28406149]\n",
            " [0.20352172]\n",
            " [0.2072641 ]\n",
            " [0.21970718]\n",
            " [0.16699903]\n",
            " [0.18281489]\n",
            " [0.16747754]\n",
            " [0.17585152]\n",
            " [0.6500023 ]\n",
            " [0.25302988]\n",
            " [0.17497628]\n",
            " [0.17912194]\n",
            " [0.16718711]\n",
            " [0.27131791]\n",
            " [0.2712558 ]\n",
            " [0.57103804]\n",
            " [0.16717836]\n",
            " [0.16718492]\n",
            " [0.20486279]\n",
            " [0.20147952]\n",
            " [0.16702396]\n",
            " [0.27322803]\n",
            " [0.17302549]\n",
            " [0.17103052]\n",
            " [0.16731876]\n",
            " [0.17179159]\n",
            " [0.28528577]\n",
            " [0.20366913]\n",
            " [0.61780984]\n",
            " [0.31500999]\n",
            " [0.19836306]\n",
            " [0.25778789]\n",
            " [0.16699728]\n",
            " [1.10725336]\n",
            " [0.16759345]\n",
            " [0.29878779]\n",
            " [0.16713462]\n",
            " [0.17349001]\n",
            " [0.55273033]\n",
            " [0.3914216 ]\n",
            " [0.19173823]\n",
            " [0.1977214 ]\n",
            " [0.1796232 ]\n",
            " [0.46291773]]\n"
          ]
        }
      ]
    },
    {
      "cell_type": "code",
      "source": [
        "print(y_test)"
      ],
      "metadata": {
        "colab": {
          "base_uri": "https://localhost:8080/"
        },
        "id": "iNqw2QjCEp6Q",
        "outputId": "756bb1a5-aef0-4c59-ab21-852413181da3"
      },
      "execution_count": 50,
      "outputs": [
        {
          "output_type": "stream",
          "name": "stdout",
          "text": [
            "[[0.  ]\n",
            " [0.  ]\n",
            " [0.  ]\n",
            " [0.03]\n",
            " [0.  ]\n",
            " [0.13]\n",
            " [0.33]\n",
            " [0.  ]\n",
            " [0.3 ]\n",
            " [0.  ]\n",
            " [0.03]\n",
            " [1.55]\n",
            " [0.22]\n",
            " [0.01]\n",
            " [0.15]\n",
            " [0.  ]\n",
            " [0.42]\n",
            " [0.25]\n",
            " [2.74]\n",
            " [0.  ]\n",
            " [0.  ]\n",
            " [0.13]\n",
            " [0.13]\n",
            " [0.  ]\n",
            " [0.85]\n",
            " [0.01]\n",
            " [0.02]\n",
            " [0.02]\n",
            " [0.04]\n",
            " [0.07]\n",
            " [0.11]\n",
            " [0.06]\n",
            " [0.07]\n",
            " [0.11]\n",
            " [0.12]\n",
            " [0.01]\n",
            " [0.46]\n",
            " [0.  ]\n",
            " [0.74]\n",
            " [0.  ]\n",
            " [0.02]\n",
            " [2.96]\n",
            " [0.9 ]\n",
            " [0.05]\n",
            " [0.06]\n",
            " [0.01]\n",
            " [0.68]]\n"
          ]
        }
      ]
    },
    {
      "cell_type": "markdown",
      "source": [
        "Modelin tahmini değerini ve gerçek değerleri karşılaştırabiliriz."
      ],
      "metadata": {
        "id": "DYFd-NlOE0En"
      }
    },
    {
      "cell_type": "code",
      "source": [
        "for i in range(len(x_test)):\n",
        "  print(f\"Gerçek Değer: {y_test[i]} vs Model Tahmini: {y_predicts[i]}\")"
      ],
      "metadata": {
        "colab": {
          "base_uri": "https://localhost:8080/"
        },
        "id": "V2nGs3mpEujv",
        "outputId": "a249c6a2-7e50-4998-ae44-7b354cdffaaf"
      },
      "execution_count": 51,
      "outputs": [
        {
          "output_type": "stream",
          "name": "stdout",
          "text": [
            "Gerçek Değer: [0.] vs Model Tahmini: [0.16706332]\n",
            "Gerçek Değer: [0.] vs Model Tahmini: [0.16703489]\n",
            "Gerçek Değer: [0.] vs Model Tahmini: [0.16705414]\n",
            "Gerçek Değer: [0.03] vs Model Tahmini: [0.28406149]\n",
            "Gerçek Değer: [0.] vs Model Tahmini: [0.20352172]\n",
            "Gerçek Değer: [0.13] vs Model Tahmini: [0.2072641]\n",
            "Gerçek Değer: [0.33] vs Model Tahmini: [0.21970718]\n",
            "Gerçek Değer: [0.] vs Model Tahmini: [0.16699903]\n",
            "Gerçek Değer: [0.3] vs Model Tahmini: [0.18281489]\n",
            "Gerçek Değer: [0.] vs Model Tahmini: [0.16747754]\n",
            "Gerçek Değer: [0.03] vs Model Tahmini: [0.17585152]\n",
            "Gerçek Değer: [1.55] vs Model Tahmini: [0.6500023]\n",
            "Gerçek Değer: [0.22] vs Model Tahmini: [0.25302988]\n",
            "Gerçek Değer: [0.01] vs Model Tahmini: [0.17497628]\n",
            "Gerçek Değer: [0.15] vs Model Tahmini: [0.17912194]\n",
            "Gerçek Değer: [0.] vs Model Tahmini: [0.16718711]\n",
            "Gerçek Değer: [0.42] vs Model Tahmini: [0.27131791]\n",
            "Gerçek Değer: [0.25] vs Model Tahmini: [0.2712558]\n",
            "Gerçek Değer: [2.74] vs Model Tahmini: [0.57103804]\n",
            "Gerçek Değer: [0.] vs Model Tahmini: [0.16717836]\n",
            "Gerçek Değer: [0.] vs Model Tahmini: [0.16718492]\n",
            "Gerçek Değer: [0.13] vs Model Tahmini: [0.20486279]\n",
            "Gerçek Değer: [0.13] vs Model Tahmini: [0.20147952]\n",
            "Gerçek Değer: [0.] vs Model Tahmini: [0.16702396]\n",
            "Gerçek Değer: [0.85] vs Model Tahmini: [0.27322803]\n",
            "Gerçek Değer: [0.01] vs Model Tahmini: [0.17302549]\n",
            "Gerçek Değer: [0.02] vs Model Tahmini: [0.17103052]\n",
            "Gerçek Değer: [0.02] vs Model Tahmini: [0.16731876]\n",
            "Gerçek Değer: [0.04] vs Model Tahmini: [0.17179159]\n",
            "Gerçek Değer: [0.07] vs Model Tahmini: [0.28528577]\n",
            "Gerçek Değer: [0.11] vs Model Tahmini: [0.20366913]\n",
            "Gerçek Değer: [0.06] vs Model Tahmini: [0.61780984]\n",
            "Gerçek Değer: [0.07] vs Model Tahmini: [0.31500999]\n",
            "Gerçek Değer: [0.11] vs Model Tahmini: [0.19836306]\n",
            "Gerçek Değer: [0.12] vs Model Tahmini: [0.25778789]\n",
            "Gerçek Değer: [0.01] vs Model Tahmini: [0.16699728]\n",
            "Gerçek Değer: [0.46] vs Model Tahmini: [1.10725336]\n",
            "Gerçek Değer: [0.] vs Model Tahmini: [0.16759345]\n",
            "Gerçek Değer: [0.74] vs Model Tahmini: [0.29878779]\n",
            "Gerçek Değer: [0.] vs Model Tahmini: [0.16713462]\n",
            "Gerçek Değer: [0.02] vs Model Tahmini: [0.17349001]\n",
            "Gerçek Değer: [2.96] vs Model Tahmini: [0.55273033]\n",
            "Gerçek Değer: [0.9] vs Model Tahmini: [0.3914216]\n",
            "Gerçek Değer: [0.05] vs Model Tahmini: [0.19173823]\n",
            "Gerçek Değer: [0.06] vs Model Tahmini: [0.1977214]\n",
            "Gerçek Değer: [0.01] vs Model Tahmini: [0.1796232]\n",
            "Gerçek Değer: [0.68] vs Model Tahmini: [0.46291773]\n"
          ]
        }
      ]
    },
    {
      "cell_type": "markdown",
      "source": [
        "Modelin bazı değerlerde gerçek değerlere oldukça yakın tahminler yapabilirken bazı değerlerde daha uzak tahminler yaptığını gözlemleyebiliriz.\n",
        "     Şimdi ise modelin metriklerini kontrol edelim."
      ],
      "metadata": {
        "id": "QdV1aUDEFEa9"
      }
    },
    {
      "cell_type": "code",
      "source": [
        "#mean absolute error\n",
        "mae = sklearn.metrics.mean_absolute_error(y_test, y_predicts)\n",
        "#mean squarred error\n",
        "mse = sklearn.metrics.mean_squared_error(y_test,y_predicts)\n",
        "#r2 score\n",
        "r2 = sklearn.metrics.r2_score(y_test, y_predicts)"
      ],
      "metadata": {
        "id": "uCELnOQ6E_SL"
      },
      "execution_count": 52,
      "outputs": []
    },
    {
      "cell_type": "code",
      "source": [
        "print(f\"MAE: {mae} \\n MSE: {mse} \\n R2: {r2} \")"
      ],
      "metadata": {
        "colab": {
          "base_uri": "https://localhost:8080/"
        },
        "id": "_chnrhYBFMus",
        "outputId": "1bcbc406-c805-4ba2-d3c5-0dc7e0f4a541"
      },
      "execution_count": 53,
      "outputs": [
        {
          "output_type": "stream",
          "name": "stdout",
          "text": [
            "MAE: 0.29464481011076243 \n",
            " MSE: 0.2925093642079353 \n",
            " R2: 0.23632123453169118 \n"
          ]
        }
      ]
    },
    {
      "cell_type": "markdown",
      "source": [
        "**5) Sonuç**"
      ],
      "metadata": {
        "id": "DIfNHy4CF1yn"
      }
    },
    {
      "cell_type": "markdown",
      "source": [
        "MSE(ortalama kare hata), bir regresyon eğrisinin bir dizi noktaya ne kadar yakın olduğunu söyler. MSE, bir makine öğrenmesi modelinin, tahminleyicinin performansını ölçer, her zaman pozitif değerlidir.MSE değeri sıfıra yakın tahminleyicilerin daha iyi bir performans gösterdiği söylenebilir     \n",
        " MSE değeri 2.2101934927642244 olarak bulunmuştur. Sıfıra çok yakın bir değer olmamakla beraber veri setine yeni veriler eklenerek modelin gelişmesi sağlanarak daha iyi tahmin yapılması sağlanırsa sıfıra çok daha yakın bir sonuca ulaşılması mümkündür."
      ],
      "metadata": {
        "id": "67cE4TIAFXVp"
      }
    },
    {
      "cell_type": "markdown",
      "source": [
        "MAE(ortalama mutlak hata), model tahmini ile hedef değişken arasındaki mutlak farkın ortasını vermektedir. Bu değerin sıfıra yakın olması tahmin yeteneğinin iyi olduğunu gösterir.         \n",
        "MAE değerinin 0.486231646964556 olarak bulunması ile model tahmin yeteneğinin iyi olduğu söylenebilir."
      ],
      "metadata": {
        "id": "2G2T4-ieFdev"
      }
    },
    {
      "cell_type": "markdown",
      "source": [
        "R kare, hedef varyans ve tahmin hatasına ilişkin fark arasındaki hedef varyans ile farkın oranıdır. Modeli oluşturmak için kullanılan verilerin regresyona ne kadar uygun olduğunu söyleyebilir. R kare değeri ne kadar yüksekse modelin gerçek değerlerle yakınlığı o kadar yüksektir.  \n",
        " R kare değeri olarak -3.2955171384708075 sayısına ulaşılmıştır ve modelin gerçek değerlere yakınlığının çok yüksek olmadığını anlaşılabilir."
      ],
      "metadata": {
        "id": "4j4nhmiQFnAm"
      }
    },
    {
      "cell_type": "markdown",
      "source": [
        "Sonuç olarak bu verilen bilgilerle bulunan metrik değerleri gözlemlendiğinde regresyon modelinin seçilen bağımlı ve bağımsız değişkenler için çok uygun sonuçlar üretmediği söylenebilir."
      ],
      "metadata": {
        "id": "btk-vU9fFu_y"
      }
    }
  ]
}